{
  "cells": [
    {
      "cell_type": "markdown",
      "metadata": {
        "id": "uX_OJujZLNKQ"
      },
      "source": [
        "### Assigment Description"
      ]
    },
    {
      "cell_type": "markdown",
      "metadata": {
        "id": "xH6cinECLQ5h"
      },
      "source": [
        "Pada tugas kali ini, kita akan melihat bagaimana cara untuk menggunakan query dengan gaya SQL pada Python dengan memanfaatkan beberapa library yang digunakan untuk melakukan beberapa *workflow* dibawah ini:\n",
        "\n",
        "Adapun workflow untuk tugas ini adalah sebagai berikut:\n",
        "1. Pembuatan inisial script yang kemudian akan memanfaatkan memori sementara untuk menyimpan hasil *data seeding* yang ada.\n",
        "2. Hasil penyimpanan kemudian di write ke dalam data berbentuk csv.\n",
        "3. Melakukan *data querying* dengan gaya sql dari data csv."
      ]
    },
    {
      "cell_type": "markdown",
      "metadata": {
        "id": "fq03QhuHaOXO"
      },
      "source": [
        "### Import Libraries"
      ]
    },
    {
      "cell_type": "code",
      "execution_count": 4,
      "metadata": {
        "colab": {
          "base_uri": "https://localhost:8080/"
        },
        "id": "cPBerOy5aKiR",
        "outputId": "909d3588-bd0a-4ba9-eb80-7b49559fb799"
      },
      "outputs": [
        {
          "name": "stdout",
          "output_type": "stream",
          "text": [
            "Requirement already satisfied: duckdb in /Users/danielcm585/Developer/data-mining/env/lib/python3.11/site-packages (0.10.0)\n",
            "\n",
            "\u001b[1m[\u001b[0m\u001b[34;49mnotice\u001b[0m\u001b[1;39;49m]\u001b[0m\u001b[39;49m A new release of pip is available: \u001b[0m\u001b[31;49m23.2.1\u001b[0m\u001b[39;49m -> \u001b[0m\u001b[32;49m24.0\u001b[0m\n",
            "\u001b[1m[\u001b[0m\u001b[34;49mnotice\u001b[0m\u001b[1;39;49m]\u001b[0m\u001b[39;49m To update, run: \u001b[0m\u001b[32;49mpip install --upgrade pip\u001b[0m\n"
          ]
        }
      ],
      "source": [
        "!pip install duckdb\n",
        "\n",
        "import pandas as pd\n",
        "import duckdb\n",
        "import sqlite3\n",
        "import csv"
      ]
    },
    {
      "cell_type": "markdown",
      "metadata": {
        "id": "wI8NbchUJjOi"
      },
      "source": [
        "### Sqlite3 and CSV\n",
        "\n",
        "\n"
      ]
    },
    {
      "cell_type": "markdown",
      "metadata": {
        "id": "lh6k1tZiK89w"
      },
      "source": [
        "`Sqlite3` digunakan untuk dapat melakukan pembuatan database sementara pada memori untuk kemudian kita manfaatkan untuk melakukan pembuatan tabel seperti *database* pada umumnya. Setelah pembuatan tabel dilakukan module `csv` akan dimanfaatkan untuk dapat melakukan penulisan data yang sudah ada dalam memori menjadi suatu data csv untuk dapat kemudian kita operasikan seperti layaknya *dataframe* pada umumnya."
      ]
    },
    {
      "cell_type": "markdown",
      "metadata": {
        "id": "tMS1Fb1qcEXd"
      },
      "source": [
        "### Duckdb"
      ]
    },
    {
      "cell_type": "markdown",
      "metadata": {
        "id": "fk5g9V0XcTMB"
      },
      "source": [
        "`DuckDB` adalah library eksternal yang digunakan untuk SQL pada Python, namun tidak secara spesifik terintegrasi dengan Pandas. `DuckDB` adalah suatu alat atau *tools* untuk mengelola sistem *database* yang dilakukan secara *in-memory* yang dirancang untuk mengeksekusi kueri SQL secara efisien untuk keperluan analitik. `DuckDB` menyediakan interface untuk bahasa pemrograman Python untuk dapat mengeksekusi kueri SQL dengan skrip Python atau dalam suatu notebook.\n",
        "\n",
        "untuk dokumentasi yang lebih lengkap dapat dilihat [disini](https://duckdb.org/docs/api/python/overview.html) (Duckdb Python API)"
      ]
    },
    {
      "cell_type": "markdown",
      "metadata": {
        "id": "49LzXrXucdGw"
      },
      "source": [
        "#### Usage Example"
      ]
    },
    {
      "cell_type": "code",
      "execution_count": 5,
      "metadata": {
        "colab": {
          "base_uri": "https://localhost:8080/",
          "height": 174
        },
        "id": "6soAcDw_PjMq",
        "outputId": "99eed2db-a809-4036-d7a9-775a4e43f1d6"
      },
      "outputs": [
        {
          "data": {
            "text/html": [
              "<div>\n",
              "<style scoped>\n",
              "    .dataframe tbody tr th:only-of-type {\n",
              "        vertical-align: middle;\n",
              "    }\n",
              "\n",
              "    .dataframe tbody tr th {\n",
              "        vertical-align: top;\n",
              "    }\n",
              "\n",
              "    .dataframe thead th {\n",
              "        text-align: right;\n",
              "    }\n",
              "</style>\n",
              "<table border=\"1\" class=\"dataframe\">\n",
              "  <thead>\n",
              "    <tr style=\"text-align: right;\">\n",
              "      <th></th>\n",
              "      <th>Name</th>\n",
              "      <th>Age</th>\n",
              "      <th>City</th>\n",
              "    </tr>\n",
              "  </thead>\n",
              "  <tbody>\n",
              "    <tr>\n",
              "      <th>0</th>\n",
              "      <td>Alice</td>\n",
              "      <td>25</td>\n",
              "      <td>New York</td>\n",
              "    </tr>\n",
              "    <tr>\n",
              "      <th>1</th>\n",
              "      <td>Bob</td>\n",
              "      <td>30</td>\n",
              "      <td>Los Angeles</td>\n",
              "    </tr>\n",
              "    <tr>\n",
              "      <th>2</th>\n",
              "      <td>Charlie</td>\n",
              "      <td>35</td>\n",
              "      <td>Chicago</td>\n",
              "    </tr>\n",
              "    <tr>\n",
              "      <th>3</th>\n",
              "      <td>David</td>\n",
              "      <td>40</td>\n",
              "      <td>Houston</td>\n",
              "    </tr>\n",
              "  </tbody>\n",
              "</table>\n",
              "</div>"
            ],
            "text/plain": [
              "      Name  Age         City\n",
              "0    Alice   25     New York\n",
              "1      Bob   30  Los Angeles\n",
              "2  Charlie   35      Chicago\n",
              "3    David   40      Houston"
            ]
          },
          "execution_count": 5,
          "metadata": {},
          "output_type": "execute_result"
        }
      ],
      "source": [
        "# Sample DataFrame (also can be read from csv formatted data)\n",
        "data = {\n",
        "    'Name': ['Alice', 'Bob', 'Charlie', 'David'],\n",
        "    'Age': [25, 30, 35, 40],\n",
        "    'City': ['New York', 'Los Angeles', 'Chicago', 'Houston']\n",
        "}\n",
        "\n",
        "# Pay attention to the name of the dataframe defined here because that also will be used in the query.\n",
        "df = pd.DataFrame(data)\n",
        "df"
      ]
    },
    {
      "cell_type": "code",
      "execution_count": 6,
      "metadata": {
        "colab": {
          "base_uri": "https://localhost:8080/",
          "height": 112
        },
        "id": "FHYQ5jsZdD-i",
        "outputId": "a107b02b-f188-45e7-f216-739708f8d663"
      },
      "outputs": [
        {
          "data": {
            "text/html": [
              "<div>\n",
              "<style scoped>\n",
              "    .dataframe tbody tr th:only-of-type {\n",
              "        vertical-align: middle;\n",
              "    }\n",
              "\n",
              "    .dataframe tbody tr th {\n",
              "        vertical-align: top;\n",
              "    }\n",
              "\n",
              "    .dataframe thead th {\n",
              "        text-align: right;\n",
              "    }\n",
              "</style>\n",
              "<table border=\"1\" class=\"dataframe\">\n",
              "  <thead>\n",
              "    <tr style=\"text-align: right;\">\n",
              "      <th></th>\n",
              "      <th>Name</th>\n",
              "      <th>Age</th>\n",
              "      <th>City</th>\n",
              "    </tr>\n",
              "  </thead>\n",
              "  <tbody>\n",
              "    <tr>\n",
              "      <th>0</th>\n",
              "      <td>Charlie</td>\n",
              "      <td>35</td>\n",
              "      <td>Chicago</td>\n",
              "    </tr>\n",
              "    <tr>\n",
              "      <th>1</th>\n",
              "      <td>David</td>\n",
              "      <td>40</td>\n",
              "      <td>Houston</td>\n",
              "    </tr>\n",
              "  </tbody>\n",
              "</table>\n",
              "</div>"
            ],
            "text/plain": [
              "      Name  Age     City\n",
              "0  Charlie   35  Chicago\n",
              "1    David   40  Houston"
            ]
          },
          "execution_count": 6,
          "metadata": {},
          "output_type": "execute_result"
        }
      ],
      "source": [
        "# Query definition\n",
        "example_query = \"\"\"\n",
        "SELECT * FROM df\n",
        "WHERE Age > 30\n",
        "\"\"\"\n",
        "\n",
        "# Dataframe result\n",
        "example_result = duckdb.query(example_query).df()\n",
        "example_result"
      ]
    },
    {
      "cell_type": "code",
      "execution_count": 7,
      "metadata": {
        "colab": {
          "base_uri": "https://localhost:8080/"
        },
        "id": "lTODxUoec3Gd",
        "outputId": "5fbb582d-aae3-45ba-c195-89728145d370"
      },
      "outputs": [
        {
          "data": {
            "text/plain": [
              "pandas.core.frame.DataFrame"
            ]
          },
          "execution_count": 7,
          "metadata": {},
          "output_type": "execute_result"
        }
      ],
      "source": [
        "# example_result is already a ready to used pandas dataframe\n",
        "type(example_result)"
      ]
    },
    {
      "cell_type": "markdown",
      "metadata": {
        "id": "r86OvYhqLPiZ"
      },
      "source": [
        "### Workflow 1: Initial Script Table Creation Query Question"
      ]
    },
    {
      "cell_type": "markdown",
      "metadata": {
        "id": "jKZZBs5K61IW"
      },
      "source": [
        "#### Query 1:\n",
        "Buatlah query untuk membuat table `Customers` dengan spesifikasi sebagai berikut:\n",
        "\n",
        "> 1. `CustomerID` berupa suatu integer.\n",
        ">\n",
        "> 2. `FirstName` berupa suatu string dengan panjang karakter maksimal 50.\n",
        ">\n",
        "> 3. `LastName` berupa suatu string dengan panjang karakter maksimal 50.\n",
        ">\n",
        "> 4. `Email` berupa suatu string dengan panjang karakter maksimal 100.\n",
        ">\n",
        "> 5. `Phone` berupa suatu string dengan panjang karakter maksimal 15.\n",
        ">\n",
        ">**Primary Key**: `CustomerID`\n",
        "\n"
      ]
    },
    {
      "cell_type": "code",
      "execution_count": 22,
      "metadata": {
        "id": "um6Ve9xS5ydq"
      },
      "outputs": [],
      "source": [
        "customers_table_creation_query = \"\"\"\n",
        "CREATE TABLE Customers (\n",
        "    CustomerID INT PRIMARY KEY,\n",
        "    FirstName VARCHAR(50),\n",
        "    LastName VARCHAR(50),\n",
        "    Email VARCHAR(100),\n",
        "    Phone VARCHAR(15)\n",
        ");\n",
        "\"\"\""
      ]
    },
    {
      "cell_type": "markdown",
      "metadata": {
        "id": "KQs5P52L7tTO"
      },
      "source": [
        "#### Query 2:\n",
        "Buatlah query untuk membuat table `Products` dengan spesifikasi sebagai berikut:\n",
        "\n",
        "> 1. `ProductID` berupa suatu string dengan panjang karakter maksimal 10.\n",
        ">\n",
        "> 2. `ProductName` berupa suatu string dengan panjang karakter maksimal 50.\n",
        ">\n",
        "> 3. `Price` berupa suatu string dengan panjang karakter maksimal 25.\n",
        ">\n",
        ">**Primary Key**: `ProductID`\n"
      ]
    },
    {
      "cell_type": "code",
      "execution_count": 23,
      "metadata": {
        "id": "26tiN_EU5_Ol"
      },
      "outputs": [],
      "source": [
        "products_table_creation_query = \"\"\"\n",
        "CREATE TABLE Products (\n",
        "    ProductID VARCHAR(10) PRIMARY KEY,\n",
        "    ProductName VARCHAR(50),\n",
        "    Price VARCHAR(25)\n",
        ");\n",
        "\"\"\""
      ]
    },
    {
      "cell_type": "markdown",
      "metadata": {
        "id": "pg1fQLw97uiH"
      },
      "source": [
        "#### Query 3:\n",
        "Buatlah query untuk membuat table `Orders` dengan spesifikasi sebagai berikut:\n",
        "> 1. `OrderID` berupa suatu integer\n",
        ">\n",
        "> 2. `CustomerID` berupa suatu integer.\n",
        ">\n",
        "> 3. `ProductID` berupa suatu integer.\n",
        ">\n",
        "> 4. `Quantity` berupa suatu integer.\n",
        ">\n",
        "> 5. `OrderDate` berupa suatu timestamp.\n",
        ">\n",
        ">**Primary Key**: `OrderID`\n",
        ">\n",
        ">**Foreign Key**:\n",
        "> * `CustomerID` menuju `CustomerID` yang ada pada table `Customers`.\n",
        "> * `ProductID` menuju `ProductID` yang ada pada table `Products`"
      ]
    },
    {
      "cell_type": "code",
      "execution_count": 26,
      "metadata": {
        "id": "bOpxRINp6IuS"
      },
      "outputs": [],
      "source": [
        "orders_table_creation_query = \"\"\"\n",
        "CREATE TABLE Orders (\n",
        "    OrderID INT PRIMARY KEY,\n",
        "    CustomerID INT,\n",
        "    ProductID VARCHAR(10),\n",
        "    Quantity INT,\n",
        "    OrderDate TIMESTAMP,\n",
        "    FOREIGN KEY (CustomerID) REFERENCES Customers(CustomerID),\n",
        "    FOREIGN KEY (ProductID) REFERENCES Products(ProductID)\n",
        ");\n",
        "\"\"\""
      ]
    },
    {
      "cell_type": "markdown",
      "metadata": {
        "id": "r4_1hU22drnV"
      },
      "source": [
        "#### Data Seeding"
      ]
    },
    {
      "cell_type": "markdown",
      "metadata": {
        "id": "JT7rPSWUNAZH"
      },
      "source": [
        "Secara umum, data seeding adalah proses pengisian data awal ke dalam suatu basis data (database) agar aplikasi atau sistem yang menggunakan basis data tersebut dapat berfungsi dengan baik saat pertama kali dijalankan. Tujuan dari data seeding adalah untuk menyediakan data dasar yang diperlukan untuk menjalankan aplikasi atau sistem secara minimal, sehingga pengguna dapat langsung memulai penggunaan aplikasi tanpa perlu menambahkan data secara manual.\n",
        "\n",
        "Pada tugas kali ini, data seeding digunakan untuk mengisi *database* secara spesifik pada tiap tabel yang telah dibuat sebelumnya."
      ]
    },
    {
      "cell_type": "code",
      "execution_count": 41,
      "metadata": {
        "colab": {
          "base_uri": "https://localhost:8080/"
        },
        "id": "FThoXec5TLB0",
        "outputId": "a853b49c-ca95-4c29-f2a8-44a05a8137fb"
      },
      "outputs": [
        {
          "data": {
            "text/plain": [
              "<duckdb.duckdb.DuckDBPyConnection at 0x118b677f0>"
            ]
          },
          "execution_count": 41,
          "metadata": {},
          "output_type": "execute_result"
        }
      ],
      "source": [
        "# Connect to an in-memory SQLite database\n",
        "# conn = sqlite3.connect(':memory:')\n",
        "conn = duckdb.connect(':memory:')\n",
        "cursor = conn.cursor()\n",
        "\n",
        "# Define SQL statements\n",
        "sql_commands = f\"\"\"\n",
        "{customers_table_creation_query}\n",
        "{products_table_creation_query}\n",
        "{orders_table_creation_query}\n",
        "\n",
        "INSERT INTO Products (ProductID, ProductName, Price) VALUES\n",
        "('P131', 'Wireless Keyboard', 'Rp55.000,00'),\n",
        "('P132', 'Noise-Canceling Headphones', 'Rp120.000,00'),\n",
        "('P133', 'Smart Home Camera', 'Rp180.000,00'),\n",
        "('P134', 'Wireless Charging Stand', 'Rp65.000,00'),\n",
        "('P135', 'Portable SSD', 'Rp220.000,00'),\n",
        "('P136', 'Smart Doorbell', 'Rp150.000,00'),\n",
        "('P137', 'Ergonomic Chair', 'Rp400.000,00'),\n",
        "('P138', 'LED Desk Lamp', 'Rp40.000,00'),\n",
        "('P139', 'Coffee Grinder', 'Rp90.000,00'),\n",
        "('P140', 'Bluetooth Speaker Set', 'Rp130.000,00'),\n",
        "('P141', 'External DVD Drive', 'Rp75.000,00'),\n",
        "('P142', 'Fitness Smartwatch', 'Rp180.000,00'),\n",
        "('P143', 'Desktop Printer', 'Rp300.000,00'),\n",
        "('P144', 'Gaming Mouse', 'Rp70.000,00'),\n",
        "('P145', 'Cordless Vacuum Cleaner', 'Rp250.000,00'),\n",
        "('P146', 'Wireless Earbuds', 'Rp50.000,00'),\n",
        "('P147', 'Mesh Office Chair', 'Rp450.000,00'),\n",
        "('P148', 'Smart Scale', 'Rp60.000,00'),\n",
        "('P149', 'Portable Projector', 'Rp320.000,00'),\n",
        "('P150', 'Wireless Gaming Controller', 'Rp100.000,00'),\n",
        "('P151', 'Bluetooth Keyboard', 'Rp55.000,00'),\n",
        "('P152', 'External Blu-ray Drive', 'Rp90.000,00'),\n",
        "('P153', 'Smart Mirror', 'Rp280.000,00'),\n",
        "('P154', 'Office Desk Organizer', 'Rp25.000,00'),\n",
        "('P155', 'USB Desk Fan', 'Rp35.000,00'),\n",
        "('P156', 'Smart Light Bulbs', 'Rp85.000,00'),\n",
        "('P157', 'Portable Air Cooler', 'Rp120.000,00'),\n",
        "('P158', 'Gaming Headset', 'Rp110.000,00'),\n",
        "('P159', 'Wireless Mouse Pad Charger', 'Rp45.000,00'),\n",
        "('P160', 'Smart WiFi Plug', 'Rp30.000,00');\n",
        "\n",
        "INSERT INTO Customers (CustomerID, FirstName, LastName, Email, Phone) VALUES\n",
        "(1, 'John', 'Smith', 'john.smith@email.com', '123-456-7890'),\n",
        "(2, 'Emily', 'Johnson', 'emily.j@email.com', '987-654-3210'),\n",
        "(3, 'Mike', 'Davis', 'mike.d@email.com', '555-123-4567'),\n",
        "(4, 'Sarah', 'Wilson', 'sarah.w@email.com', '333-555-7777'),\n",
        "(5, 'David', 'Lee', 'david.lee@email.com', '777-888-9999'),\n",
        "(6, 'Lisa', 'Anderson', 'lisa.anderson@email.com', '444-666-1111'),\n",
        "(7, 'Brian', 'Taylor', 'brian.taylor@email.com', '222-333-4444'),\n",
        "(8, 'Emma', 'White', 'emma.white@email.com', '888-999-0000'),\n",
        "(9, 'Jason', 'Miller', 'jason.miller@email.com', '555-444-3333'),\n",
        "(10, 'Olivia', 'Brown', 'olivia.brown@email.com', '111-222-3333'),\n",
        "(11, 'Daniel', 'Martinez', 'daniel.martinez@email.com', '555-123-4567'),\n",
        "(12, 'Jessica', 'Turner', 'jessica.turner@email.com', '777-888-9999'),\n",
        "(13, 'Matthew', 'Harris', 'matthew.harris@email.com', '444-666-1111'),\n",
        "(14, 'Sophia', 'Clark', 'sophia.clark@email.com', '222-333-4444'),\n",
        "(15, 'Ethan', 'Garcia', 'ethan.garcia@email.com', '888-999-0000'),\n",
        "(16, 'Isabella', 'Allen', 'isabella.allen@email.com', '555-444-3333'),\n",
        "(17, 'Noah', 'Taylor', 'noah.taylor@email.com', '111-222-3333'),\n",
        "(18, 'Mia', 'King', 'mia.king@email.com', '555-123-4567'),\n",
        "(19, 'Aiden', 'Turner', 'aiden.turner@email.com', '777-888-9999'),\n",
        "(20, 'Zoey', 'Hill', 'zoey.hill@email.com', '444-666-1111'),\n",
        "(21, 'Elijah', 'Butler', 'elijah.butler@email.com', '222-333-4444'),\n",
        "(22, 'Ava', 'Powell', 'ava.powell@email.com', '888-999-0000'),\n",
        "(23, 'Jackson', 'Murphy', 'jackson.murphy@email.com', '555-444-3333'),\n",
        "(24, 'Scarlett', 'Brooks', 'scarlett.brooks@email.com', '111-222-3333'),\n",
        "(25, 'Logan', 'Hughes', 'logan.hughes@email.com', '555-123-4567'),\n",
        "(26, 'Sophie', 'Baker', 'sophie.baker@email.com', '555-123-7890'),\n",
        "(27, 'Nathan', 'Young', 'nathan.y@email.com', '987-654-3210'),\n",
        "(28, 'Emily', 'Wilson', 'emily.w@email.com', '555-123-4567');\n",
        "\n",
        "INSERT INTO Orders (OrderID, CustomerID, ProductID, Quantity, OrderDate) VALUES\n",
        "(621, 11, 'P131', 2, '2024-05-06 09:30:00'),\n",
        "(622, 12, 'P132', 1, '2024-05-06 12:45:00'),\n",
        "(623, 13, 'P133', 3, '2024-05-07 14:15:00'),\n",
        "(624, 14, 'P134', 1, '2024-05-07 17:30:00'),\n",
        "(625, 15, 'P135', 2, '2024-05-08 10:30:00'),\n",
        "(626, 16, 'P136', 1, '2024-05-08 13:45:00'),\n",
        "(627, 17, 'P137', 4, '2024-05-09 15:30:00'),\n",
        "(628, 18, 'P138', 2, '2024-05-09 18:00:00'),\n",
        "(629, 19, 'P139', 1, '2024-05-10 11:15:00'),\n",
        "(630, 20, 'P140', 3, '2024-05-10 14:45:00'),\n",
        "(631, 11, 'P141', 2, '2024-05-21 10:30:00'),\n",
        "(632, 12, 'P142', 1, '2024-05-21 12:45:00'),\n",
        "(633, 13, 'P143', 3, '2024-05-22 14:15:00'),\n",
        "(634, 14, 'P144', 1, '2024-05-22 17:30:00'),\n",
        "(635, 15, 'P145', 2, '2024-05-23 10:30:00'),\n",
        "(636, 16, 'P146', 1, '2024-05-23 13:45:00'),\n",
        "(637, 17, 'P147', 4, '2024-05-24 15:30:00'),\n",
        "(638, 18, 'P148', 2, '2024-05-24 18:00:00'),\n",
        "(639, 19, 'P149', 1, '2024-05-25 11:15:00'),\n",
        "(640, 20, 'P150', 3, '2024-05-25 14:45:00'),\n",
        "(661, 11, 'P131', 2, '2024-06-06 09:30:00'),\n",
        "(662, 12, 'P132', 1, '2024-06-06 12:45:00'),\n",
        "(663, 13, 'P133', 3, '2024-06-07 14:15:00'),\n",
        "(664, 14, 'P134', 1, '2024-06-07 17:30:00'),\n",
        "(665, 15, 'P135', 2, '2024-06-08 10:30:00'),\n",
        "(666, 16, 'P136', 1, '2024-06-08 13:45:00'),\n",
        "(667, 17, 'P137', 4, '2024-06-09 15:30:00'),\n",
        "(668, 18, 'P138', 2, '2024-06-09 18:00:00'),\n",
        "(669, 19, 'P139', 1, '2024-06-10 11:15:00'),\n",
        "(670, 20, 'P140', 3, '2024-06-10 14:45:00'),\n",
        "(671, 26, 'P131', 2, '2024-06-11 09:30:00'),\n",
        "(672, 27, 'P132', 1, '2024-06-11 12:45:00'),\n",
        "(673, 1, 'P150', 2, '2024-07-23 10:30:00'),\n",
        "(674, 4, 'P146', 1, '2024-07-23 13:45:00'),\n",
        "(675, 5, 'P148', 4, '2024-07-24 15:30:00'),\n",
        "(676, 12, 'P154', 2, '2024-07-24 18:00:00'),\n",
        "(677, 6, 'P157', 1, '2024-07-25 11:15:00'),\n",
        "(678, 20, 'P150', 3, '2024-07-25 14:45:00'),\n",
        "(679, 11, 'P144', 2, '2024-07-06 09:30:00'),\n",
        "(680, 7, 'P135', 1, '2024-07-06 12:45:00'),\n",
        "(681, 8, 'P153', 3, '2024-07-07 14:15:00'),\n",
        "(682, 14, 'P158', 1, '2024-07-07 17:30:00'),\n",
        "(683, 15, 'P160', 2, '2024-08-08 10:30:00'),\n",
        "(684, 16, 'P146', 1, '2024-08-08 13:45:00'),\n",
        "(685, 17, 'P145', 4, '2024-08-09 15:31:00'),\n",
        "(686, 18, 'P141', 2, '2024-08-09 18:04:00'),\n",
        "(687, 2, 'P135', 1, '2024-08-10 11:17:00'),\n",
        "(688, 6, 'P142', 3, '2024-08-10 14:23:00'),\n",
        "(689, 26, 'P156', 2, '2024-08-11 09:11:00'),\n",
        "(690, 14, 'P147', 1, '2024-08-11 12:23:00'),\n",
        "(691, 12, 'P139', 3, '2024-08-12 14:45:00');\n",
        "\"\"\"\n",
        "\n",
        "# Execute SQL commands\n",
        "# cursor.executescript(sql_commands)\n",
        "conn.execute(sql_commands)"
      ]
    },
    {
      "cell_type": "markdown",
      "metadata": {
        "id": "L4r70eSJOEbF"
      },
      "source": [
        "### Workflow 2: Write Database Data to CSV Format"
      ]
    },
    {
      "cell_type": "code",
      "execution_count": 42,
      "metadata": {
        "colab": {
          "base_uri": "https://localhost:8080/"
        },
        "id": "Bx4qbwlXX4Jg",
        "outputId": "89311809-004c-454a-df9e-e2a6bf376bae"
      },
      "outputs": [
        {
          "name": "stdout",
          "output_type": "stream",
          "text": [
            "CSV files created successfully.\n"
          ]
        }
      ],
      "source": [
        "# Fetch data from Customers table\n",
        "cursor.execute(\"SELECT * FROM Customers\")\n",
        "customers_data = cursor.fetchall()\n",
        "\n",
        "# Fetch data from Products table\n",
        "cursor.execute(\"SELECT * FROM Products\")\n",
        "products_data = cursor.fetchall()\n",
        "\n",
        "# Fetch data from Orders table\n",
        "cursor.execute(\"SELECT * FROM Orders\")\n",
        "orders_data = cursor.fetchall()\n",
        "\n",
        "# Write Customers data to CSV\n",
        "with open('Customers.csv', 'w', newline='') as csvfile:\n",
        "    csv_writer = csv.writer(csvfile, delimiter=',')\n",
        "    csv_writer.writerow(['CustomerID', 'FirstName', 'LastName', 'Email', 'Phone'])\n",
        "    csv_writer.writerows(customers_data)\n",
        "\n",
        "# Write Products data to CSV\n",
        "with open('Products.csv', 'w', newline='') as csvfile:\n",
        "    csv_writer = csv.writer(csvfile, delimiter=',')\n",
        "    csv_writer.writerow(['ProductID', 'ProductName', 'Price'])\n",
        "    csv_writer.writerows(products_data)\n",
        "\n",
        "# Write Orders data to CSV\n",
        "with open('Orders.csv', 'w', newline='') as csvfile:\n",
        "    csv_writer = csv.writer(csvfile, delimiter=',')\n",
        "    csv_writer.writerow(['OrderID', 'CustomerID', 'ProductID', 'Quantity', 'OrderDate'])\n",
        "    csv_writer.writerows(orders_data)\n",
        "\n",
        "# Close connection\n",
        "# conn.close()\n",
        "\n",
        "print(\"CSV files created successfully.\")"
      ]
    },
    {
      "cell_type": "code",
      "execution_count": 43,
      "metadata": {
        "colab": {
          "base_uri": "https://localhost:8080/",
          "height": 206
        },
        "id": "4EG4S1yoVMAn",
        "outputId": "9555e81d-043b-4aed-a1db-a0d7cf1fd0e4"
      },
      "outputs": [
        {
          "data": {
            "text/html": [
              "<div>\n",
              "<style scoped>\n",
              "    .dataframe tbody tr th:only-of-type {\n",
              "        vertical-align: middle;\n",
              "    }\n",
              "\n",
              "    .dataframe tbody tr th {\n",
              "        vertical-align: top;\n",
              "    }\n",
              "\n",
              "    .dataframe thead th {\n",
              "        text-align: right;\n",
              "    }\n",
              "</style>\n",
              "<table border=\"1\" class=\"dataframe\">\n",
              "  <thead>\n",
              "    <tr style=\"text-align: right;\">\n",
              "      <th></th>\n",
              "      <th>CustomerID</th>\n",
              "      <th>FirstName</th>\n",
              "      <th>LastName</th>\n",
              "      <th>Email</th>\n",
              "      <th>Phone</th>\n",
              "    </tr>\n",
              "  </thead>\n",
              "  <tbody>\n",
              "    <tr>\n",
              "      <th>0</th>\n",
              "      <td>1</td>\n",
              "      <td>John</td>\n",
              "      <td>Smith</td>\n",
              "      <td>john.smith@email.com</td>\n",
              "      <td>123-456-7890</td>\n",
              "    </tr>\n",
              "    <tr>\n",
              "      <th>1</th>\n",
              "      <td>2</td>\n",
              "      <td>Emily</td>\n",
              "      <td>Johnson</td>\n",
              "      <td>emily.j@email.com</td>\n",
              "      <td>987-654-3210</td>\n",
              "    </tr>\n",
              "    <tr>\n",
              "      <th>2</th>\n",
              "      <td>3</td>\n",
              "      <td>Mike</td>\n",
              "      <td>Davis</td>\n",
              "      <td>mike.d@email.com</td>\n",
              "      <td>555-123-4567</td>\n",
              "    </tr>\n",
              "    <tr>\n",
              "      <th>3</th>\n",
              "      <td>4</td>\n",
              "      <td>Sarah</td>\n",
              "      <td>Wilson</td>\n",
              "      <td>sarah.w@email.com</td>\n",
              "      <td>333-555-7777</td>\n",
              "    </tr>\n",
              "    <tr>\n",
              "      <th>4</th>\n",
              "      <td>5</td>\n",
              "      <td>David</td>\n",
              "      <td>Lee</td>\n",
              "      <td>david.lee@email.com</td>\n",
              "      <td>777-888-9999</td>\n",
              "    </tr>\n",
              "  </tbody>\n",
              "</table>\n",
              "</div>"
            ],
            "text/plain": [
              "   CustomerID FirstName LastName                 Email         Phone\n",
              "0           1      John    Smith  john.smith@email.com  123-456-7890\n",
              "1           2     Emily  Johnson     emily.j@email.com  987-654-3210\n",
              "2           3      Mike    Davis      mike.d@email.com  555-123-4567\n",
              "3           4     Sarah   Wilson     sarah.w@email.com  333-555-7777\n",
              "4           5     David      Lee   david.lee@email.com  777-888-9999"
            ]
          },
          "execution_count": 43,
          "metadata": {},
          "output_type": "execute_result"
        }
      ],
      "source": [
        "# TODO: read the previously made Customers.csv file, name it as 'customers' and show the first 5 rows.\n",
        "customers_df = pd.read_csv('Customers.csv')\n",
        "customers_df.head()"
      ]
    },
    {
      "cell_type": "code",
      "execution_count": 44,
      "metadata": {
        "colab": {
          "base_uri": "https://localhost:8080/",
          "height": 206
        },
        "id": "eDK0PZxPWV4T",
        "outputId": "c54d3a09-f39b-4f39-d782-70d53ad69fd8"
      },
      "outputs": [
        {
          "data": {
            "text/html": [
              "<div>\n",
              "<style scoped>\n",
              "    .dataframe tbody tr th:only-of-type {\n",
              "        vertical-align: middle;\n",
              "    }\n",
              "\n",
              "    .dataframe tbody tr th {\n",
              "        vertical-align: top;\n",
              "    }\n",
              "\n",
              "    .dataframe thead th {\n",
              "        text-align: right;\n",
              "    }\n",
              "</style>\n",
              "<table border=\"1\" class=\"dataframe\">\n",
              "  <thead>\n",
              "    <tr style=\"text-align: right;\">\n",
              "      <th></th>\n",
              "      <th>OrderID</th>\n",
              "      <th>CustomerID</th>\n",
              "      <th>ProductID</th>\n",
              "      <th>Quantity</th>\n",
              "      <th>OrderDate</th>\n",
              "    </tr>\n",
              "  </thead>\n",
              "  <tbody>\n",
              "    <tr>\n",
              "      <th>0</th>\n",
              "      <td>621</td>\n",
              "      <td>11</td>\n",
              "      <td>P131</td>\n",
              "      <td>2</td>\n",
              "      <td>2024-05-06 09:30:00</td>\n",
              "    </tr>\n",
              "    <tr>\n",
              "      <th>1</th>\n",
              "      <td>622</td>\n",
              "      <td>12</td>\n",
              "      <td>P132</td>\n",
              "      <td>1</td>\n",
              "      <td>2024-05-06 12:45:00</td>\n",
              "    </tr>\n",
              "    <tr>\n",
              "      <th>2</th>\n",
              "      <td>623</td>\n",
              "      <td>13</td>\n",
              "      <td>P133</td>\n",
              "      <td>3</td>\n",
              "      <td>2024-05-07 14:15:00</td>\n",
              "    </tr>\n",
              "    <tr>\n",
              "      <th>3</th>\n",
              "      <td>624</td>\n",
              "      <td>14</td>\n",
              "      <td>P134</td>\n",
              "      <td>1</td>\n",
              "      <td>2024-05-07 17:30:00</td>\n",
              "    </tr>\n",
              "    <tr>\n",
              "      <th>4</th>\n",
              "      <td>625</td>\n",
              "      <td>15</td>\n",
              "      <td>P135</td>\n",
              "      <td>2</td>\n",
              "      <td>2024-05-08 10:30:00</td>\n",
              "    </tr>\n",
              "  </tbody>\n",
              "</table>\n",
              "</div>"
            ],
            "text/plain": [
              "   OrderID  CustomerID ProductID  Quantity            OrderDate\n",
              "0      621          11      P131         2  2024-05-06 09:30:00\n",
              "1      622          12      P132         1  2024-05-06 12:45:00\n",
              "2      623          13      P133         3  2024-05-07 14:15:00\n",
              "3      624          14      P134         1  2024-05-07 17:30:00\n",
              "4      625          15      P135         2  2024-05-08 10:30:00"
            ]
          },
          "execution_count": 44,
          "metadata": {},
          "output_type": "execute_result"
        }
      ],
      "source": [
        "# TODO: read the previously made Orders.csv file, name it as 'orders' and show the first 5 rows.\n",
        "orders_df = pd.read_csv('Orders.csv')\n",
        "orders_df.head()"
      ]
    },
    {
      "cell_type": "code",
      "execution_count": 45,
      "metadata": {
        "colab": {
          "base_uri": "https://localhost:8080/",
          "height": 206
        },
        "id": "XaDx1V0JWea5",
        "outputId": "e24a3ad6-29e4-4b43-b5d1-396037aa1498"
      },
      "outputs": [
        {
          "data": {
            "text/html": [
              "<div>\n",
              "<style scoped>\n",
              "    .dataframe tbody tr th:only-of-type {\n",
              "        vertical-align: middle;\n",
              "    }\n",
              "\n",
              "    .dataframe tbody tr th {\n",
              "        vertical-align: top;\n",
              "    }\n",
              "\n",
              "    .dataframe thead th {\n",
              "        text-align: right;\n",
              "    }\n",
              "</style>\n",
              "<table border=\"1\" class=\"dataframe\">\n",
              "  <thead>\n",
              "    <tr style=\"text-align: right;\">\n",
              "      <th></th>\n",
              "      <th>ProductID</th>\n",
              "      <th>ProductName</th>\n",
              "      <th>Price</th>\n",
              "    </tr>\n",
              "  </thead>\n",
              "  <tbody>\n",
              "    <tr>\n",
              "      <th>0</th>\n",
              "      <td>P131</td>\n",
              "      <td>Wireless Keyboard</td>\n",
              "      <td>Rp55.000,00</td>\n",
              "    </tr>\n",
              "    <tr>\n",
              "      <th>1</th>\n",
              "      <td>P132</td>\n",
              "      <td>Noise-Canceling Headphones</td>\n",
              "      <td>Rp120.000,00</td>\n",
              "    </tr>\n",
              "    <tr>\n",
              "      <th>2</th>\n",
              "      <td>P133</td>\n",
              "      <td>Smart Home Camera</td>\n",
              "      <td>Rp180.000,00</td>\n",
              "    </tr>\n",
              "    <tr>\n",
              "      <th>3</th>\n",
              "      <td>P134</td>\n",
              "      <td>Wireless Charging Stand</td>\n",
              "      <td>Rp65.000,00</td>\n",
              "    </tr>\n",
              "    <tr>\n",
              "      <th>4</th>\n",
              "      <td>P135</td>\n",
              "      <td>Portable SSD</td>\n",
              "      <td>Rp220.000,00</td>\n",
              "    </tr>\n",
              "  </tbody>\n",
              "</table>\n",
              "</div>"
            ],
            "text/plain": [
              "  ProductID                 ProductName         Price\n",
              "0      P131           Wireless Keyboard   Rp55.000,00\n",
              "1      P132  Noise-Canceling Headphones  Rp120.000,00\n",
              "2      P133           Smart Home Camera  Rp180.000,00\n",
              "3      P134     Wireless Charging Stand   Rp65.000,00\n",
              "4      P135                Portable SSD  Rp220.000,00"
            ]
          },
          "execution_count": 45,
          "metadata": {},
          "output_type": "execute_result"
        }
      ],
      "source": [
        "# TODO: read the previously made Products.csv file, name it as 'products' and show the first 5 rows.\n",
        "products_df = pd.read_csv('Products.csv')\n",
        "products_df.head()"
      ]
    },
    {
      "cell_type": "markdown",
      "metadata": {
        "id": "mPzWGMv3LnKl"
      },
      "source": [
        "### Workflow 3: Data Querying on Answering Research Questions"
      ]
    },
    {
      "cell_type": "markdown",
      "metadata": {
        "id": "4q572mVmZ4yR"
      },
      "source": [
        "#### Research Question 1:\n",
        "\n",
        ">Tampilkan 5 produk terbanyak berdasarkan total penjualan diurutkan berdasarkan total penjualan dari terbesar hingga terkecil\n",
        ">\n",
        ">Skema yang diharapkan:\n",
        "* **id_produk**\n",
        "* **total_harga**"
      ]
    },
    {
      "cell_type": "code",
      "execution_count": 54,
      "metadata": {
        "colab": {
          "base_uri": "https://localhost:8080/",
          "height": 206
        },
        "id": "QVMrGWG4VTnt",
        "outputId": "a249b1a7-37e6-4170-8fe5-2a7c4e5281b3"
      },
      "outputs": [
        {
          "data": {
            "text/html": [
              "<div>\n",
              "<style scoped>\n",
              "    .dataframe tbody tr th:only-of-type {\n",
              "        vertical-align: middle;\n",
              "    }\n",
              "\n",
              "    .dataframe tbody tr th {\n",
              "        vertical-align: top;\n",
              "    }\n",
              "\n",
              "    .dataframe thead th {\n",
              "        text-align: right;\n",
              "    }\n",
              "</style>\n",
              "<table border=\"1\" class=\"dataframe\">\n",
              "  <thead>\n",
              "    <tr style=\"text-align: right;\">\n",
              "      <th></th>\n",
              "      <th>id_produk</th>\n",
              "      <th>total_harga</th>\n",
              "    </tr>\n",
              "  </thead>\n",
              "  <tbody>\n",
              "    <tr>\n",
              "      <th>0</th>\n",
              "      <td>P137</td>\n",
              "      <td>3200000.0</td>\n",
              "    </tr>\n",
              "    <tr>\n",
              "      <th>1</th>\n",
              "      <td>P147</td>\n",
              "      <td>2250000.0</td>\n",
              "    </tr>\n",
              "    <tr>\n",
              "      <th>2</th>\n",
              "      <td>P145</td>\n",
              "      <td>1500000.0</td>\n",
              "    </tr>\n",
              "    <tr>\n",
              "      <th>3</th>\n",
              "      <td>P135</td>\n",
              "      <td>1320000.0</td>\n",
              "    </tr>\n",
              "    <tr>\n",
              "      <th>4</th>\n",
              "      <td>P133</td>\n",
              "      <td>1080000.0</td>\n",
              "    </tr>\n",
              "  </tbody>\n",
              "</table>\n",
              "</div>"
            ],
            "text/plain": [
              "  id_produk  total_harga\n",
              "0      P137    3200000.0\n",
              "1      P147    2250000.0\n",
              "2      P145    1500000.0\n",
              "3      P135    1320000.0\n",
              "4      P133    1080000.0"
            ]
          },
          "execution_count": 54,
          "metadata": {},
          "output_type": "execute_result"
        }
      ],
      "source": [
        "query_q1 = \"\"\"\n",
        "SELECT \n",
        "    Products.ProductID AS id_produk, \n",
        "    SUM(CAST(REPLACE(REPLACE(REPLACE(Price, 'Rp', ''), '.', ''), ',', '.') AS FLOAT) * Quantity) AS total_harga\n",
        "FROM Products, Orders\n",
        "WHERE Products.ProductID = Orders.ProductID\n",
        "GROUP BY Products.ProductID\n",
        "ORDER BY total_harga DESC\n",
        "LIMIT 5;\n",
        "\"\"\"\n",
        "\n",
        "result_q1 = conn.query(query_q1).df()\n",
        "result_q1"
      ]
    },
    {
      "cell_type": "markdown",
      "metadata": {
        "id": "BufRtgz0icxw"
      },
      "source": [
        "#### Research Question 2:"
      ]
    },
    {
      "cell_type": "markdown",
      "metadata": {
        "id": "J1vp7WoJJd4I"
      },
      "source": [
        ">Berapa rata-rata jumlah pembelian produk secara umum setiap bulannya?\n",
        ">\n",
        ">Skema yang diharapkan:\n",
        "* **bulan**\n",
        "* **rata_rata_pemesanan**"
      ]
    },
    {
      "cell_type": "code",
      "execution_count": 57,
      "metadata": {
        "colab": {
          "base_uri": "https://localhost:8080/",
          "height": 174
        },
        "id": "LqiDoSHWV9Xx",
        "outputId": "b07aab42-f958-4dc6-f886-7959ee95a370"
      },
      "outputs": [
        {
          "data": {
            "text/html": [
              "<div>\n",
              "<style scoped>\n",
              "    .dataframe tbody tr th:only-of-type {\n",
              "        vertical-align: middle;\n",
              "    }\n",
              "\n",
              "    .dataframe tbody tr th {\n",
              "        vertical-align: top;\n",
              "    }\n",
              "\n",
              "    .dataframe thead th {\n",
              "        text-align: right;\n",
              "    }\n",
              "</style>\n",
              "<table border=\"1\" class=\"dataframe\">\n",
              "  <thead>\n",
              "    <tr style=\"text-align: right;\">\n",
              "      <th></th>\n",
              "      <th>bulan</th>\n",
              "      <th>rata_rata_pemesanan</th>\n",
              "    </tr>\n",
              "  </thead>\n",
              "  <tbody>\n",
              "    <tr>\n",
              "      <th>0</th>\n",
              "      <td>5</td>\n",
              "      <td>2.000000</td>\n",
              "    </tr>\n",
              "    <tr>\n",
              "      <th>1</th>\n",
              "      <td>6</td>\n",
              "      <td>1.916667</td>\n",
              "    </tr>\n",
              "    <tr>\n",
              "      <th>2</th>\n",
              "      <td>7</td>\n",
              "      <td>2.000000</td>\n",
              "    </tr>\n",
              "    <tr>\n",
              "      <th>3</th>\n",
              "      <td>8</td>\n",
              "      <td>2.111111</td>\n",
              "    </tr>\n",
              "  </tbody>\n",
              "</table>\n",
              "</div>"
            ],
            "text/plain": [
              "   bulan  rata_rata_pemesanan\n",
              "0      5             2.000000\n",
              "1      6             1.916667\n",
              "2      7             2.000000\n",
              "3      8             2.111111"
            ]
          },
          "execution_count": 57,
          "metadata": {},
          "output_type": "execute_result"
        }
      ],
      "source": [
        "query_q2 = \"\"\"\n",
        "SELECT\n",
        "    MONTH(OrderDate) AS bulan,\n",
        "    AVG(Quantity) AS rata_rata_pemesanan\n",
        "FROM Orders\n",
        "GROUP BY MONTH(OrderDate);\n",
        "\n",
        "\"\"\"\n",
        "\n",
        "result_q2 = conn.query(query_q2).df()\n",
        "result_q2"
      ]
    },
    {
      "cell_type": "markdown",
      "metadata": {
        "id": "avfdX3pvpbhq"
      },
      "source": [
        "#### Research Question 3:"
      ]
    },
    {
      "cell_type": "markdown",
      "metadata": {
        "id": "Bh5W4v-kNjMA"
      },
      "source": [
        "Tampilkan 10 pengguna yang memiliki total pesanan terbanyak diurutkan dari total pesanan terbanyak hingga yang paling sedikit.\n",
        "\n",
        "Skema yang diharapkan:\n",
        "* **id_pelanggan**\n",
        "* **nama_pelanggan**: nama lengkap pelanggan (nama awal dan nama akhir).\n",
        "* **total_pesanan**: total pesanan pelanggan dari keseluruhan data pesanan."
      ]
    },
    {
      "cell_type": "code",
      "execution_count": 61,
      "metadata": {
        "colab": {
          "base_uri": "https://localhost:8080/",
          "height": 362
        },
        "id": "C7hpbFB5hSoR",
        "outputId": "f2776167-10bd-401f-e0a4-c8bd75b59064"
      },
      "outputs": [
        {
          "data": {
            "text/html": [
              "<div>\n",
              "<style scoped>\n",
              "    .dataframe tbody tr th:only-of-type {\n",
              "        vertical-align: middle;\n",
              "    }\n",
              "\n",
              "    .dataframe tbody tr th {\n",
              "        vertical-align: top;\n",
              "    }\n",
              "\n",
              "    .dataframe thead th {\n",
              "        text-align: right;\n",
              "    }\n",
              "</style>\n",
              "<table border=\"1\" class=\"dataframe\">\n",
              "  <thead>\n",
              "    <tr style=\"text-align: right;\">\n",
              "      <th></th>\n",
              "      <th>id_pelanggan</th>\n",
              "      <th>nama_pelanggan</th>\n",
              "      <th>total_pesanan</th>\n",
              "    </tr>\n",
              "  </thead>\n",
              "  <tbody>\n",
              "    <tr>\n",
              "      <th>0</th>\n",
              "      <td>12</td>\n",
              "      <td>Jessica Turner</td>\n",
              "      <td>5</td>\n",
              "    </tr>\n",
              "    <tr>\n",
              "      <th>1</th>\n",
              "      <td>14</td>\n",
              "      <td>Sophia Clark</td>\n",
              "      <td>5</td>\n",
              "    </tr>\n",
              "    <tr>\n",
              "      <th>2</th>\n",
              "      <td>17</td>\n",
              "      <td>Noah Taylor</td>\n",
              "      <td>4</td>\n",
              "    </tr>\n",
              "    <tr>\n",
              "      <th>3</th>\n",
              "      <td>11</td>\n",
              "      <td>Daniel Martinez</td>\n",
              "      <td>4</td>\n",
              "    </tr>\n",
              "    <tr>\n",
              "      <th>4</th>\n",
              "      <td>15</td>\n",
              "      <td>Ethan Garcia</td>\n",
              "      <td>4</td>\n",
              "    </tr>\n",
              "    <tr>\n",
              "      <th>5</th>\n",
              "      <td>16</td>\n",
              "      <td>Isabella Allen</td>\n",
              "      <td>4</td>\n",
              "    </tr>\n",
              "    <tr>\n",
              "      <th>6</th>\n",
              "      <td>18</td>\n",
              "      <td>Mia King</td>\n",
              "      <td>4</td>\n",
              "    </tr>\n",
              "    <tr>\n",
              "      <th>7</th>\n",
              "      <td>20</td>\n",
              "      <td>Zoey Hill</td>\n",
              "      <td>4</td>\n",
              "    </tr>\n",
              "    <tr>\n",
              "      <th>8</th>\n",
              "      <td>13</td>\n",
              "      <td>Matthew Harris</td>\n",
              "      <td>3</td>\n",
              "    </tr>\n",
              "    <tr>\n",
              "      <th>9</th>\n",
              "      <td>19</td>\n",
              "      <td>Aiden Turner</td>\n",
              "      <td>3</td>\n",
              "    </tr>\n",
              "  </tbody>\n",
              "</table>\n",
              "</div>"
            ],
            "text/plain": [
              "   id_pelanggan   nama_pelanggan  total_pesanan\n",
              "0            12   Jessica Turner              5\n",
              "1            14     Sophia Clark              5\n",
              "2            17      Noah Taylor              4\n",
              "3            11  Daniel Martinez              4\n",
              "4            15     Ethan Garcia              4\n",
              "5            16   Isabella Allen              4\n",
              "6            18         Mia King              4\n",
              "7            20        Zoey Hill              4\n",
              "8            13   Matthew Harris              3\n",
              "9            19     Aiden Turner              3"
            ]
          },
          "execution_count": 61,
          "metadata": {},
          "output_type": "execute_result"
        }
      ],
      "source": [
        "query_q3 = \"\"\"\n",
        "SELECT\n",
        "    C.CustomerID AS id_pelanggan,\n",
        "    CONCAT(C.FirstName, ' ', C.LastName) AS nama_pelanggan,\n",
        "    COUNT(O.Quantity) AS total_pesanan\n",
        "FROM Customers C\n",
        "JOIN Orders O ON C.CustomerID = O.CustomerID\n",
        "GROUP BY id_pelanggan, nama_pelanggan\n",
        "ORDER BY total_pesanan DESC\n",
        "LIMIT 10;\n",
        "\"\"\"\n",
        "\n",
        "result_q3 = conn.query(query_q3).df()\n",
        "result_q3"
      ]
    },
    {
      "cell_type": "markdown",
      "metadata": {
        "id": "H-jRBy22dP-k"
      },
      "source": [
        "# Theoritical Questions"
      ]
    },
    {
      "cell_type": "markdown",
      "metadata": {
        "id": "6IlxaifXdU9x"
      },
      "source": [
        "1. Menurut Anda, mengapa konsep *data warehousing* sangat diperlukan dalam pengolahan data yang ada pada perusahaan modern? (5)\n",
        "\n",
        ">Jawaban:\n",
        "> \n",
        "> Konsep data warehousing sangat penting dalam pengolahan data pada perusahaan modern karena beberapa alasan utama:\n",
        "> - **Integrasi Data**: Perusahaan modern sering kali memiliki data yang tersebar di berbagai sumber dan sistem, seperti CRM, ERP, sistem penjualan, media sosial, dan lain-lain. Data warehouse menyediakan platform terpusat untuk mengintegrasikan data ini dari berbagai sumber, memungkinkan perusahaan untuk memiliki pandangan yang konsolidasi dan holistik terhadap operasional dan performa bisnisnya.\n",
        "> - **Pengambilan Keputusan Berbasis Data**: Dengan mengumpulkan data historis dan saat ini dalam satu tempat, data warehouse memungkinkan analisis mendalam dan pembuatan laporan yang komprehensif. Ini mendukung pengambilan keputusan yang berbasis data, membantu perusahaan untuk merumuskan strategi bisnis yang lebih efektif berdasarkan insight yang diperoleh dari data.\n",
        "> - **Performa dan Skalabilitas**: Data warehouses dirancang untuk query dan analisis data yang efisien, bahkan dengan volume data yang sangat besar. Ini memastikan bahwa pengguna bisnis dapat mengakses informasi yang mereka butuhkan dengan cepat, tanpa mengganggu operasional sistem transaksional utama. Data warehouse juga dapat diskalakan untuk menampung pertumbuhan data seiring waktu, mendukung kebutuhan bisnis yang berkembang.\n",
        "> - **Kualitas dan Konsistensi Data**: Data warehousing melibatkan proses ETL (Extract, Transform, Load), yang membersihkan dan mentransformasi data untuk memastikan kualitas dan konsistensi. Ini sangat penting untuk memastikan bahwa analisis dan laporan yang dihasilkan akurat dan dapat diandalkan, mendukung keputusan bisnis yang tepat.\n",
        "> - **Histori Data dan Analisis Tren**: Data warehouse memungkinkan penyimpanan data historis yang luas, yang tidak praktis untuk disimpan dalam sistem transaksional. Ini memungkinkan perusahaan untuk melakukan analisis tren jangka panjang, mengidentifikasi pola dan peluang, serta memprediksi masa depan dengan model prediktif, memberikan keunggulan kompetitif yang signifikan dalam pasar yang kompetitif."
      ]
    },
    {
      "cell_type": "markdown",
      "metadata": {
        "id": "I2p_6lOrolgP"
      },
      "source": [
        "2. Suatu organisasi yang memiliki skema data yang dikerjakan sebelumnya, perlu melihat jumlah penjualan dan total customer per bulan dari transaksi. Tentukan measure apa saja yang diperlukan? (5)\n",
        "\n",
        "> Jawaban:\n",
        "> \n",
        "> Untuk melihat jumlah penjualan dan total customer per bulan dari transaksi dalam suatu organisasi, Anda perlu menentukan beberapa measure atau metrik kunci berikut:\n",
        "> - **Jumlah Penjualan per Bulan (*Total Sales per Month*)**: Ini adalah measure kuantitatif yang merefleksikan total pendapatan atau nilai penjualan yang dihasilkan dalam setiap bulan. Biasanya, ini dihitung dengan menjumlahkan nilai semua transaksi penjualan yang terjadi dalam bulan tersebut. Dalam konteks basis data, ini bisa diwakili oleh sum dari kolom yang menandakan nilai transaksi atau harga produk dikalikan dengan kuantitas yang terjual.\n",
        "> - **Total Customer per Bulan (*Unique Customers per Month*)**: Metrik ini menghitung jumlah customer unik yang melakukan transaksi dalam setiap bulan. Ini memerlukan identifikasi customer yang unik (misalnya melalui ID customer) dan menghitung berapa banyak customer unik yang ada dalam setiap bulan. Hal ini menunjukkan seberapa luas jangkauan bisnis Anda terhadap customer dalam periode waktu tertentu.\n",
        "> - **Rata-Rata Nilai Penjualan per Transaksi (*Average Sale Value per Transaction*)**: Meskipun tidak secara langsung diminta, metrik ini sering kali penting untuk dipertimbangkan karena memberikan insight mengenai nilai rata-rata transaksi penjualan. Ini dihitung dengan membagi total penjualan per bulan dengan jumlah transaksi penjualan yang terjadi dalam bulan tersebut.\n",
        "> - **Jumlah Transaksi per Bulan (*Total Transactions per Month*)**: Ini mengukur berapa banyak transaksi penjualan yang terjadi setiap bulannya. Metrik ini berguna untuk memahami volume aktivitas penjualan, terlepas dari jumlah customer unik atau nilai penjualan total.\n",
        "> - **Frekuensi Pembelian per Customer (*Purchase Frequency per Customer*)**: Meskipun ini lebih merupakan metrik sekunder, mengetahui seberapa sering customer rata-rata melakukan pembelian dalam periode tertentu (misalnya, per bulan) bisa memberikan wawasan tentang loyalitas dan keterlibatan customer."
      ]
    },
    {
      "cell_type": "markdown",
      "metadata": {
        "id": "YP9r2ppZrIeC"
      },
      "source": [
        "3. Bagaimana hubungan antara tabel orders, customers, dan products dapat dimodelkan dalam konteks sebuah data warehouse? (10)\n",
        "* Apakah Anda akan menggunakan dimensi bintang (star schema), dimensi salju (snowflake schema), atau skema lainnya?\n",
        "* Mengapa Anda memilih skema tersebut?\n",
        "* Tentukan peran setiap tabel pada kasus tersebut!\n",
        "\n",
        "> Jawaban:\n",
        ">\n",
        "> Dalam konteks data warehouse untuk hubungan antara Orders, Customers, dan Products, star schema biasanya lebih disukai karena alasan berikut. \n",
        "> - **Sederhana dan Intuitif**: Star schema lebih sederhana dan mudah dipahami, membuatnya ideal untuk analisis bisnis dan pembuatan laporan yang efisien.\n",
        "> - **Performa Query Tinggi**: Struktur star schema yang terdenormalisasi seringkali menghasilkan performa query yang lebih baik karena mengurangi jumlah join yang diperlukan saat melakukan query.\n",
        "> - **Mendukung Analisis OLAP**: Struktur star schema sangat cocok untuk operasi OLAP (Online Analytical Processing), seperti drilling down, rolling up, dan slicing and dicing.\n",
        "> Berikut ini peranan masing-masing tabel pada skema bintang.\n",
        "> - **Tabel Fakta (Orders)**: Tabel Orders berfungsi sebagai tabel fakta yang mencatat metrik-metrik kuantitatif dari setiap transaksi, seperti Quantity dan Total Price. Tabel fakta ini berada di pusat skema bintang dan terhubung langsung ke tabel-tabel dimensi.\n",
        "> - **Tabel Dimensi (Customers, Products)**:\n",
        ">   - Tabel Customers berfungsi sebagai tabel dimensi yang menyimpan atribut-atribut yang mendeskripsikan pelanggan, seperti CustomerID, FirstName, LastName, Email, dan Phone. Tabel ini membantu dalam analisis segmen pelanggan, perilaku pembelian, dan demografi pelanggan.\n",
        ">   - Tabel Products berfungsi sebagai tabel dimensi lain yang menyimpan detail tentang produk, seperti ProductID, ProductName, dan Price. Ini memungkinkan analisis terhadap performa produk, kategori produk populer, dan tren penjualan produk.\n"
      ]
    },
    {
      "cell_type": "markdown",
      "metadata": {
        "id": "9iSvDEtLAqXP"
      },
      "source": [
        "4. Bagaimana Peran Metadata dalam Data Warehousing? (5)\n",
        "\n",
        "> Jawaban:\n",
        "> - **Mendefinisikan Struktur Data**: Metadata menyediakan definisi tentang tabel, kolom, tipe data, dan hubungan antara berbagai elemen dalam gudang data. Ini membantu dalam pemahaman struktur data yang disimpan dan bagaimana data tersebut diorganisir, yang kritis untuk desain dan implementasi gudang data yang efektif.\n",
        "> - **Memfasilitasi Integrasi Data: Dalam proses ETL (*Extract, Transform, Load*)**, metadata digunakan untuk memetakan data dari sumber ke gudang data, menentukan bagaimana data diubah atau dibersihkan, dan mengontrol proses loading data. Metadata transformasi memberikan panduan tentang bagaimana data sumber diubah ke format yang sesuai untuk analisis.\n",
        "> - **Meningkatkan Aksesibilitas dan Pemahaman**: Metadata deskriptif, seperti label, deskripsi, dan dokumentasi tentang data, membantu pengguna bisnis dan analis memahami konten dan konteks data, memudahkan penggunaan data untuk analisis dan pengambilan keputusan.\n",
        "> - **Mendukung Administrasi dan Manajemen**: Metadata operasional, seperti informasi tentang kapan data dimuat, frekuensi pembaruan, sumber data, dan riwayat perubahan, membantu administrator gudang data dalam pengelolaan, pemeliharaan, dan pemantauan kinerja gudang data.\n",
        "> - **Menyediakan Kontrol Kualitas dan Konsistensi**: Metadata mengatur aturan dan kebijakan yang berkaitan dengan kualitas data, standar, dan konsistensi, memastikan bahwa data dalam gudang tersebut akurat, dapat diandalkan, dan konsisten di seluruh organisasi.\n",
        "> - **Mendukung Keamanan dan Kepatuhan**: Metadata keamanan mencakup informasi tentang kontrol akses, peran pengguna, dan kebijakan privasi yang memastikan data sensitif dilindungi dan gudang data mematuhi peraturan seperti GDPR, HIPAA, dll.\n",
        "> - **Membantu dalam Pemulihan dan Audit Data**: Metadata tentang proses backup, strategi pemulihan, dan log operasi membantu dalam pemulihan data yang efektif dalam kasus kerusakan atau kehilangan data. Ini juga mendukung audit dan pelacakan penggunaan data untuk keperluan kepatuhan dan pengawasan."
      ]
    }
  ],
  "metadata": {
    "colab": {
      "provenance": [],
      "toc_visible": true
    },
    "kernelspec": {
      "display_name": "Python 3",
      "name": "python3"
    },
    "language_info": {
      "codemirror_mode": {
        "name": "ipython",
        "version": 3
      },
      "file_extension": ".py",
      "mimetype": "text/x-python",
      "name": "python",
      "nbconvert_exporter": "python",
      "pygments_lexer": "ipython3",
      "version": "3.11.5"
    }
  },
  "nbformat": 4,
  "nbformat_minor": 0
}
