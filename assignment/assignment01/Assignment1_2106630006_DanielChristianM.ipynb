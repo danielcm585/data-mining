{
  "cells": [
    {
      "cell_type": "markdown",
      "metadata": {
        "id": "N8-T1K8BwBFP"
      },
      "source": [
        "## Build KNN Class"
      ]
    },
    {
      "cell_type": "code",
      "execution_count": 1,
      "metadata": {
        "id": "tMWLRLz5wBFQ"
      },
      "outputs": [],
      "source": [
        "# TODO: Buat class KNN yang akan Anda gunakan untuk classification dan regression\n",
        "import numpy as np\n",
        "from collections import Counter\n",
        "from scipy.stats import mode\n",
        "\n",
        "class KNN:\n",
        "    def __init__(self, k=3, metric='euclidean', task='classification'):\n",
        "        self.k = k\n",
        "        self.metric = metric\n",
        "        self.task = task\n",
        "        self.X_train = None\n",
        "        self.y_train = None\n",
        "\n",
        "    def euclidean(self, x1, x2):\n",
        "        return np.sqrt(np.sum((x1 - x2) ** 2))\n",
        "\n",
        "    def manhattan(self, x1, x2):\n",
        "        return np.sum(np.abs(x1 - x2))\n",
        "\n",
        "    def fit(self, X, y):\n",
        "        self.X_train = X\n",
        "        self.y_train = y\n",
        "\n",
        "    def get_neighbours(self, x):\n",
        "        distances = []\n",
        "        for _, x_train in self.X_train.iterrows():\n",
        "            if self.metric == 'euclidean':\n",
        "                distances.append(self.euclidean(x, x_train.values))\n",
        "            elif self.metric == 'manhattan':\n",
        "                distances.append(self.manhattan(x, x_train.values))\n",
        "            else:\n",
        "                raise NameError('Metric must be either \"euclidean\" or \"manhattan\"')\n",
        "        neighbours_indices = np.argsort(distances)[:self.k]\n",
        "        return self.X_train.iloc[neighbours_indices], self.y_train.iloc[neighbours_indices]\n",
        "\n",
        "    def predict(self, X):\n",
        "        predictions = []\n",
        "        for _, x in X.iterrows():\n",
        "            _, neighbour_labels = self.get_neighbours(x.values)\n",
        "            if self.task == 'classification':\n",
        "                mode_result = mode(neighbour_labels)\n",
        "                mode_values = np.atleast_1d(mode_result.mode)\n",
        "                prediction = mode_values[0]\n",
        "                predictions.append(prediction)\n",
        "            elif self.task == 'regression':\n",
        "                predictions.append(np.mean(neighbour_labels))\n",
        "            else:\n",
        "                raise ValueError('Task harus berupa classification atau regression')\n",
        "        return np.array(predictions)\n",
        "\n",
        "    def score(self, X_test, y_test):\n",
        "        y_pred = self.predict(X_test)\n",
        "        if self.task == 'classification':\n",
        "            accuracy = np.sum(y_pred == y_test) / len(y_test)\n",
        "            return accuracy\n",
        "        elif self.task == 'regression':\n",
        "            u = ((y_test - y_pred) ** 2).sum()\n",
        "            v = ((y_test - y_test.mean()) ** 2).sum()\n",
        "            r2_score = 1 - u / v\n",
        "            return r2_score\n",
        "        else:\n",
        "            raise ValueError('Task must be either \"classification\" or \"regression\"')\n",
        "\n",
        "    def get_params(self, deep=True):\n",
        "        return {'k': self.k, 'metric': self.metric, 'task': self.task}\n",
        "\n",
        "    def set_params(self, **parameters):\n",
        "        for parameter, value in parameters.items():\n",
        "            setattr(self, parameter, value)\n",
        "        return self"
      ]
    },
    {
      "cell_type": "markdown",
      "source": [
        "# Classification"
      ],
      "metadata": {
        "id": "4VU5cAudjaJe"
      }
    },
    {
      "cell_type": "code",
      "source": [
        "# TODO: Gunakan class KNN yang Anda buat untuk menentukan class dari kerang Abalone\n",
        "import pandas as pd\n",
        "\n",
        "df_classification = pd.read_csv('dataset.csv')\n",
        "df_classification.head()"
      ],
      "metadata": {
        "id": "O36WBQnojdTN",
        "colab": {
          "base_uri": "https://localhost:8080/",
          "height": 206
        },
        "outputId": "43b3375f-3727-48e9-9101-714dee451c30"
      },
      "execution_count": null,
      "outputs": [
        {
          "output_type": "execute_result",
          "data": {
            "text/plain": [
              "   Length  Diameter  Height  Whole weight  Shucked weight  Viscera weight  \\\n",
              "0   0.455     0.365   0.095        0.5140          0.2245          0.1010   \n",
              "1   0.350     0.265   0.090        0.2255          0.0995          0.0485   \n",
              "2   0.530     0.420   0.135        0.6770          0.2565          0.1415   \n",
              "3   0.440     0.365   0.125        0.5160          0.2155          0.1140   \n",
              "4   0.330     0.255   0.080        0.2050          0.0895          0.0395   \n",
              "\n",
              "   Shell weight  Class  \n",
              "0         0.150      1  \n",
              "1         0.070      0  \n",
              "2         0.210      0  \n",
              "3         0.155      0  \n",
              "4         0.055      0  "
            ],
            "text/html": [
              "\n",
              "  <div id=\"df-4abddf93-4fe2-452c-979c-5f8ac3cd88ba\" class=\"colab-df-container\">\n",
              "    <div>\n",
              "<style scoped>\n",
              "    .dataframe tbody tr th:only-of-type {\n",
              "        vertical-align: middle;\n",
              "    }\n",
              "\n",
              "    .dataframe tbody tr th {\n",
              "        vertical-align: top;\n",
              "    }\n",
              "\n",
              "    .dataframe thead th {\n",
              "        text-align: right;\n",
              "    }\n",
              "</style>\n",
              "<table border=\"1\" class=\"dataframe\">\n",
              "  <thead>\n",
              "    <tr style=\"text-align: right;\">\n",
              "      <th></th>\n",
              "      <th>Length</th>\n",
              "      <th>Diameter</th>\n",
              "      <th>Height</th>\n",
              "      <th>Whole weight</th>\n",
              "      <th>Shucked weight</th>\n",
              "      <th>Viscera weight</th>\n",
              "      <th>Shell weight</th>\n",
              "      <th>Class</th>\n",
              "    </tr>\n",
              "  </thead>\n",
              "  <tbody>\n",
              "    <tr>\n",
              "      <th>0</th>\n",
              "      <td>0.455</td>\n",
              "      <td>0.365</td>\n",
              "      <td>0.095</td>\n",
              "      <td>0.5140</td>\n",
              "      <td>0.2245</td>\n",
              "      <td>0.1010</td>\n",
              "      <td>0.150</td>\n",
              "      <td>1</td>\n",
              "    </tr>\n",
              "    <tr>\n",
              "      <th>1</th>\n",
              "      <td>0.350</td>\n",
              "      <td>0.265</td>\n",
              "      <td>0.090</td>\n",
              "      <td>0.2255</td>\n",
              "      <td>0.0995</td>\n",
              "      <td>0.0485</td>\n",
              "      <td>0.070</td>\n",
              "      <td>0</td>\n",
              "    </tr>\n",
              "    <tr>\n",
              "      <th>2</th>\n",
              "      <td>0.530</td>\n",
              "      <td>0.420</td>\n",
              "      <td>0.135</td>\n",
              "      <td>0.6770</td>\n",
              "      <td>0.2565</td>\n",
              "      <td>0.1415</td>\n",
              "      <td>0.210</td>\n",
              "      <td>0</td>\n",
              "    </tr>\n",
              "    <tr>\n",
              "      <th>3</th>\n",
              "      <td>0.440</td>\n",
              "      <td>0.365</td>\n",
              "      <td>0.125</td>\n",
              "      <td>0.5160</td>\n",
              "      <td>0.2155</td>\n",
              "      <td>0.1140</td>\n",
              "      <td>0.155</td>\n",
              "      <td>0</td>\n",
              "    </tr>\n",
              "    <tr>\n",
              "      <th>4</th>\n",
              "      <td>0.330</td>\n",
              "      <td>0.255</td>\n",
              "      <td>0.080</td>\n",
              "      <td>0.2050</td>\n",
              "      <td>0.0895</td>\n",
              "      <td>0.0395</td>\n",
              "      <td>0.055</td>\n",
              "      <td>0</td>\n",
              "    </tr>\n",
              "  </tbody>\n",
              "</table>\n",
              "</div>\n",
              "    <div class=\"colab-df-buttons\">\n",
              "\n",
              "  <div class=\"colab-df-container\">\n",
              "    <button class=\"colab-df-convert\" onclick=\"convertToInteractive('df-4abddf93-4fe2-452c-979c-5f8ac3cd88ba')\"\n",
              "            title=\"Convert this dataframe to an interactive table.\"\n",
              "            style=\"display:none;\">\n",
              "\n",
              "  <svg xmlns=\"http://www.w3.org/2000/svg\" height=\"24px\" viewBox=\"0 -960 960 960\">\n",
              "    <path d=\"M120-120v-720h720v720H120Zm60-500h600v-160H180v160Zm220 220h160v-160H400v160Zm0 220h160v-160H400v160ZM180-400h160v-160H180v160Zm440 0h160v-160H620v160ZM180-180h160v-160H180v160Zm440 0h160v-160H620v160Z\"/>\n",
              "  </svg>\n",
              "    </button>\n",
              "\n",
              "  <style>\n",
              "    .colab-df-container {\n",
              "      display:flex;\n",
              "      gap: 12px;\n",
              "    }\n",
              "\n",
              "    .colab-df-convert {\n",
              "      background-color: #E8F0FE;\n",
              "      border: none;\n",
              "      border-radius: 50%;\n",
              "      cursor: pointer;\n",
              "      display: none;\n",
              "      fill: #1967D2;\n",
              "      height: 32px;\n",
              "      padding: 0 0 0 0;\n",
              "      width: 32px;\n",
              "    }\n",
              "\n",
              "    .colab-df-convert:hover {\n",
              "      background-color: #E2EBFA;\n",
              "      box-shadow: 0px 1px 2px rgba(60, 64, 67, 0.3), 0px 1px 3px 1px rgba(60, 64, 67, 0.15);\n",
              "      fill: #174EA6;\n",
              "    }\n",
              "\n",
              "    .colab-df-buttons div {\n",
              "      margin-bottom: 4px;\n",
              "    }\n",
              "\n",
              "    [theme=dark] .colab-df-convert {\n",
              "      background-color: #3B4455;\n",
              "      fill: #D2E3FC;\n",
              "    }\n",
              "\n",
              "    [theme=dark] .colab-df-convert:hover {\n",
              "      background-color: #434B5C;\n",
              "      box-shadow: 0px 1px 3px 1px rgba(0, 0, 0, 0.15);\n",
              "      filter: drop-shadow(0px 1px 2px rgba(0, 0, 0, 0.3));\n",
              "      fill: #FFFFFF;\n",
              "    }\n",
              "  </style>\n",
              "\n",
              "    <script>\n",
              "      const buttonEl =\n",
              "        document.querySelector('#df-4abddf93-4fe2-452c-979c-5f8ac3cd88ba button.colab-df-convert');\n",
              "      buttonEl.style.display =\n",
              "        google.colab.kernel.accessAllowed ? 'block' : 'none';\n",
              "\n",
              "      async function convertToInteractive(key) {\n",
              "        const element = document.querySelector('#df-4abddf93-4fe2-452c-979c-5f8ac3cd88ba');\n",
              "        const dataTable =\n",
              "          await google.colab.kernel.invokeFunction('convertToInteractive',\n",
              "                                                    [key], {});\n",
              "        if (!dataTable) return;\n",
              "\n",
              "        const docLinkHtml = 'Like what you see? Visit the ' +\n",
              "          '<a target=\"_blank\" href=https://colab.research.google.com/notebooks/data_table.ipynb>data table notebook</a>'\n",
              "          + ' to learn more about interactive tables.';\n",
              "        element.innerHTML = '';\n",
              "        dataTable['output_type'] = 'display_data';\n",
              "        await google.colab.output.renderOutput(dataTable, element);\n",
              "        const docLink = document.createElement('div');\n",
              "        docLink.innerHTML = docLinkHtml;\n",
              "        element.appendChild(docLink);\n",
              "      }\n",
              "    </script>\n",
              "  </div>\n",
              "\n",
              "\n",
              "<div id=\"df-a30aad6b-6588-4139-84ec-82415b51653f\">\n",
              "  <button class=\"colab-df-quickchart\" onclick=\"quickchart('df-a30aad6b-6588-4139-84ec-82415b51653f')\"\n",
              "            title=\"Suggest charts\"\n",
              "            style=\"display:none;\">\n",
              "\n",
              "<svg xmlns=\"http://www.w3.org/2000/svg\" height=\"24px\"viewBox=\"0 0 24 24\"\n",
              "     width=\"24px\">\n",
              "    <g>\n",
              "        <path d=\"M19 3H5c-1.1 0-2 .9-2 2v14c0 1.1.9 2 2 2h14c1.1 0 2-.9 2-2V5c0-1.1-.9-2-2-2zM9 17H7v-7h2v7zm4 0h-2V7h2v10zm4 0h-2v-4h2v4z\"/>\n",
              "    </g>\n",
              "</svg>\n",
              "  </button>\n",
              "\n",
              "<style>\n",
              "  .colab-df-quickchart {\n",
              "      --bg-color: #E8F0FE;\n",
              "      --fill-color: #1967D2;\n",
              "      --hover-bg-color: #E2EBFA;\n",
              "      --hover-fill-color: #174EA6;\n",
              "      --disabled-fill-color: #AAA;\n",
              "      --disabled-bg-color: #DDD;\n",
              "  }\n",
              "\n",
              "  [theme=dark] .colab-df-quickchart {\n",
              "      --bg-color: #3B4455;\n",
              "      --fill-color: #D2E3FC;\n",
              "      --hover-bg-color: #434B5C;\n",
              "      --hover-fill-color: #FFFFFF;\n",
              "      --disabled-bg-color: #3B4455;\n",
              "      --disabled-fill-color: #666;\n",
              "  }\n",
              "\n",
              "  .colab-df-quickchart {\n",
              "    background-color: var(--bg-color);\n",
              "    border: none;\n",
              "    border-radius: 50%;\n",
              "    cursor: pointer;\n",
              "    display: none;\n",
              "    fill: var(--fill-color);\n",
              "    height: 32px;\n",
              "    padding: 0;\n",
              "    width: 32px;\n",
              "  }\n",
              "\n",
              "  .colab-df-quickchart:hover {\n",
              "    background-color: var(--hover-bg-color);\n",
              "    box-shadow: 0 1px 2px rgba(60, 64, 67, 0.3), 0 1px 3px 1px rgba(60, 64, 67, 0.15);\n",
              "    fill: var(--button-hover-fill-color);\n",
              "  }\n",
              "\n",
              "  .colab-df-quickchart-complete:disabled,\n",
              "  .colab-df-quickchart-complete:disabled:hover {\n",
              "    background-color: var(--disabled-bg-color);\n",
              "    fill: var(--disabled-fill-color);\n",
              "    box-shadow: none;\n",
              "  }\n",
              "\n",
              "  .colab-df-spinner {\n",
              "    border: 2px solid var(--fill-color);\n",
              "    border-color: transparent;\n",
              "    border-bottom-color: var(--fill-color);\n",
              "    animation:\n",
              "      spin 1s steps(1) infinite;\n",
              "  }\n",
              "\n",
              "  @keyframes spin {\n",
              "    0% {\n",
              "      border-color: transparent;\n",
              "      border-bottom-color: var(--fill-color);\n",
              "      border-left-color: var(--fill-color);\n",
              "    }\n",
              "    20% {\n",
              "      border-color: transparent;\n",
              "      border-left-color: var(--fill-color);\n",
              "      border-top-color: var(--fill-color);\n",
              "    }\n",
              "    30% {\n",
              "      border-color: transparent;\n",
              "      border-left-color: var(--fill-color);\n",
              "      border-top-color: var(--fill-color);\n",
              "      border-right-color: var(--fill-color);\n",
              "    }\n",
              "    40% {\n",
              "      border-color: transparent;\n",
              "      border-right-color: var(--fill-color);\n",
              "      border-top-color: var(--fill-color);\n",
              "    }\n",
              "    60% {\n",
              "      border-color: transparent;\n",
              "      border-right-color: var(--fill-color);\n",
              "    }\n",
              "    80% {\n",
              "      border-color: transparent;\n",
              "      border-right-color: var(--fill-color);\n",
              "      border-bottom-color: var(--fill-color);\n",
              "    }\n",
              "    90% {\n",
              "      border-color: transparent;\n",
              "      border-bottom-color: var(--fill-color);\n",
              "    }\n",
              "  }\n",
              "</style>\n",
              "\n",
              "  <script>\n",
              "    async function quickchart(key) {\n",
              "      const quickchartButtonEl =\n",
              "        document.querySelector('#' + key + ' button');\n",
              "      quickchartButtonEl.disabled = true;  // To prevent multiple clicks.\n",
              "      quickchartButtonEl.classList.add('colab-df-spinner');\n",
              "      try {\n",
              "        const charts = await google.colab.kernel.invokeFunction(\n",
              "            'suggestCharts', [key], {});\n",
              "      } catch (error) {\n",
              "        console.error('Error during call to suggestCharts:', error);\n",
              "      }\n",
              "      quickchartButtonEl.classList.remove('colab-df-spinner');\n",
              "      quickchartButtonEl.classList.add('colab-df-quickchart-complete');\n",
              "    }\n",
              "    (() => {\n",
              "      let quickchartButtonEl =\n",
              "        document.querySelector('#df-a30aad6b-6588-4139-84ec-82415b51653f button');\n",
              "      quickchartButtonEl.style.display =\n",
              "        google.colab.kernel.accessAllowed ? 'block' : 'none';\n",
              "    })();\n",
              "  </script>\n",
              "</div>\n",
              "    </div>\n",
              "  </div>\n"
            ]
          },
          "metadata": {},
          "execution_count": 8
        }
      ]
    },
    {
      "cell_type": "markdown",
      "source": [
        "### Preprocessing"
      ],
      "metadata": {
        "id": "wdpZUArhUlzX"
      }
    },
    {
      "cell_type": "code",
      "source": [
        "# TODO: Lakukan preprocessing\n",
        "print(df_classification.isnull().sum())"
      ],
      "metadata": {
        "id": "wSlOPeSfUqEE",
        "colab": {
          "base_uri": "https://localhost:8080/"
        },
        "outputId": "5a24c216-e19e-4639-8595-8c70f4c4c301"
      },
      "execution_count": null,
      "outputs": [
        {
          "output_type": "stream",
          "name": "stdout",
          "text": [
            "Length            0\n",
            "Diameter          0\n",
            "Height            0\n",
            "Whole weight      0\n",
            "Shucked weight    0\n",
            "Viscera weight    0\n",
            "Shell weight      0\n",
            "Class             0\n",
            "dtype: int64\n"
          ]
        }
      ]
    },
    {
      "cell_type": "markdown",
      "source": [
        "### Feature selection dan split data"
      ],
      "metadata": {
        "id": "D8ocXn6JUum7"
      }
    },
    {
      "cell_type": "code",
      "source": [
        "# TODO: Lakukan pemilihan atribut dan split data menjadi train dan test\n",
        "import seaborn as sns\n",
        "import matplotlib.pyplot as plt\n",
        "\n",
        "corr_matrix = df_classification.corr()\n",
        "\n",
        "plt.figure(figsize=(10, 8))\n",
        "sns.heatmap(corr_matrix, annot=True, fmt=\".2f\", cmap='coolwarm',\n",
        "            square=True, linewidths=.5, cbar_kws={\"shrink\": .5})\n",
        "plt.title('Heatmap of Correlation Between Features')\n",
        "plt.show()"
      ],
      "metadata": {
        "id": "SS1hqTtYU5X2",
        "colab": {
          "base_uri": "https://localhost:8080/",
          "height": 795
        },
        "outputId": "69fb1a1a-a837-4e07-915e-6866bd051306"
      },
      "execution_count": null,
      "outputs": [
        {
          "output_type": "display_data",
          "data": {
            "text/plain": [
              "<Figure size 1000x800 with 2 Axes>"
            ],
            "image/png": "[encoded data removed]"
          },
          "metadata": {}
        }
      ]
    },
    {
      "cell_type": "code",
      "source": [
        "from sklearn.model_selection import train_test_split\n",
        "\n",
        "X = df_classification[['Length', 'Height', 'Shucked weight']]\n",
        "y = df_classification['Class']\n",
        "\n",
        "X_train, X_test, y_train, y_test = train_test_split(X, y, test_size=0.2, random_state=42)\n",
        "X_train.shape, y_train.shape, X_test.shape, y_test.shape"
      ],
      "metadata": {
        "colab": {
          "base_uri": "https://localhost:8080/"
        },
        "id": "d09kuhFzdWbj",
        "outputId": "16511625-35db-4ebf-9fd5-9755e9854bba"
      },
      "execution_count": null,
      "outputs": [
        {
          "output_type": "execute_result",
          "data": {
            "text/plain": [
              "((3341, 3), (3341,), (836, 3), (836,))"
            ]
          },
          "metadata": {},
          "execution_count": 11
        }
      ]
    },
    {
      "cell_type": "markdown",
      "source": [
        "### Train dan test model"
      ],
      "metadata": {
        "id": "iUirepH8U9vO"
      }
    },
    {
      "cell_type": "code",
      "source": [
        "# TODO: Lakukan training dan testing pada model KNN\n",
        "knn_classification = KNN(task='classification')\n",
        "knn_classification.fit(X_train, y_train)"
      ],
      "metadata": {
        "id": "zy0gSwrkVCOB"
      },
      "execution_count": null,
      "outputs": []
    },
    {
      "cell_type": "code",
      "source": [
        "y_pred = knn_classification.predict(X_test)\n",
        "y_pred"
      ],
      "metadata": {
        "colab": {
          "base_uri": "https://localhost:8080/"
        },
        "id": "43lWY77OfhQK",
        "outputId": "11d62e8b-3ff5-4e54-aad2-c2ffda29fbcb"
      },
      "execution_count": null,
      "outputs": [
        {
          "output_type": "execute_result",
          "data": {
            "text/plain": [
              "array([1, 1, 1, 0, 1, 0, 0, 0, 0, 1, 0, 0, 1, 0, 0, 1, 0, 0, 1, 0, 0, 0,\n",
              "       1, 1, 0, 0, 0, 0, 0, 0, 0, 0, 0, 1, 0, 0, 0, 0, 0, 0, 0, 0, 0, 0,\n",
              "       0, 0, 0, 0, 0, 0, 0, 1, 0, 0, 0, 0, 0, 1, 0, 0, 0, 1, 0, 0, 0, 0,\n",
              "       0, 0, 0, 1, 0, 1, 0, 1, 0, 0, 1, 0, 0, 0, 1, 0, 0, 0, 0, 0, 0, 1,\n",
              "       0, 0, 0, 0, 0, 1, 0, 0, 0, 0, 1, 0, 1, 1, 0, 0, 0, 0, 0, 0, 0, 0,\n",
              "       0, 0, 0, 0, 0, 0, 0, 1, 0, 1, 0, 0, 0, 1, 0, 0, 0, 0, 1, 1, 0, 0,\n",
              "       0, 0, 0, 0, 0, 0, 0, 0, 0, 1, 0, 0, 0, 1, 0, 0, 0, 1, 0, 0, 0, 0,\n",
              "       0, 0, 0, 0, 0, 0, 0, 0, 0, 1, 0, 1, 0, 0, 0, 0, 1, 0, 0, 0, 0, 0,\n",
              "       0, 0, 0, 0, 0, 0, 0, 0, 0, 0, 0, 0, 0, 0, 1, 0, 0, 0, 0, 1, 0, 0,\n",
              "       0, 0, 0, 0, 1, 0, 0, 0, 1, 0, 0, 0, 0, 0, 0, 0, 0, 1, 0, 0, 0, 1,\n",
              "       1, 0, 1, 1, 0, 0, 0, 1, 0, 1, 0, 1, 0, 1, 0, 0, 0, 0, 0, 0, 0, 1,\n",
              "       0, 0, 0, 0, 1, 0, 0, 0, 0, 0, 0, 0, 0, 0, 0, 0, 0, 0, 0, 1, 0, 0,\n",
              "       0, 0, 0, 1, 0, 0, 0, 0, 0, 0, 0, 0, 0, 1, 0, 0, 1, 0, 0, 0, 0, 0,\n",
              "       1, 0, 1, 0, 0, 0, 0, 0, 0, 0, 0, 0, 0, 0, 0, 0, 0, 0, 0, 0, 1, 0,\n",
              "       0, 0, 0, 0, 0, 0, 0, 0, 0, 1, 0, 0, 0, 0, 0, 0, 0, 0, 0, 1, 0, 0,\n",
              "       0, 0, 0, 0, 0, 0, 0, 1, 0, 0, 0, 0, 1, 0, 0, 0, 0, 1, 0, 0, 0, 0,\n",
              "       0, 0, 0, 0, 0, 0, 0, 0, 0, 0, 0, 0, 0, 0, 0, 0, 0, 0, 0, 1, 0, 0,\n",
              "       0, 0, 0, 0, 0, 0, 0, 0, 0, 1, 0, 0, 0, 1, 0, 0, 0, 0, 0, 1, 0, 0,\n",
              "       0, 0, 0, 1, 0, 0, 1, 0, 0, 0, 0, 0, 1, 0, 1, 1, 0, 0, 1, 0, 0, 0,\n",
              "       0, 0, 0, 1, 1, 0, 1, 0, 1, 0, 0, 0, 1, 0, 0, 0, 1, 0, 0, 0, 0, 0,\n",
              "       0, 0, 0, 0, 0, 0, 1, 1, 0, 1, 0, 0, 0, 0, 0, 0, 0, 0, 0, 0, 0, 0,\n",
              "       0, 0, 0, 0, 0, 1, 0, 0, 1, 0, 0, 0, 0, 0, 1, 1, 0, 0, 0, 0, 0, 0,\n",
              "       0, 0, 1, 0, 0, 0, 1, 0, 0, 0, 0, 0, 0, 0, 0, 0, 0, 0, 0, 0, 0, 0,\n",
              "       0, 0, 0, 0, 0, 0, 0, 0, 0, 0, 0, 0, 0, 0, 0, 0, 0, 0, 0, 0, 0, 1,\n",
              "       1, 0, 0, 0, 0, 1, 0, 0, 0, 0, 1, 0, 0, 0, 0, 1, 0, 0, 1, 0, 1, 0,\n",
              "       0, 0, 1, 0, 0, 0, 0, 0, 0, 0, 1, 0, 0, 0, 0, 0, 0, 0, 0, 0, 0, 0,\n",
              "       0, 0, 0, 0, 0, 0, 0, 0, 0, 0, 0, 0, 0, 0, 0, 0, 0, 1, 0, 0, 0, 0,\n",
              "       0, 1, 0, 0, 0, 1, 0, 1, 0, 0, 0, 1, 0, 0, 0, 0, 0, 0, 0, 0, 0, 0,\n",
              "       0, 1, 0, 0, 0, 0, 0, 0, 0, 0, 0, 0, 0, 1, 0, 0, 0, 0, 0, 1, 0, 0,\n",
              "       0, 0, 1, 0, 0, 1, 0, 0, 0, 0, 0, 0, 1, 0, 0, 0, 0, 0, 0, 0, 0, 1,\n",
              "       0, 0, 0, 1, 0, 0, 0, 0, 0, 0, 0, 0, 0, 0, 0, 1, 0, 0, 0, 1, 0, 0,\n",
              "       0, 0, 1, 0, 0, 0, 0, 0, 0, 0, 1, 0, 1, 0, 1, 0, 0, 0, 0, 0, 0, 0,\n",
              "       0, 0, 0, 0, 0, 0, 0, 0, 0, 0, 1, 0, 0, 0, 0, 0, 0, 0, 0, 0, 0, 1,\n",
              "       0, 0, 0, 0, 0, 0, 0, 0, 1, 0, 0, 0, 1, 0, 1, 1, 0, 0, 0, 0, 0, 0,\n",
              "       0, 0, 0, 1, 1, 1, 0, 0, 0, 0, 0, 0, 0, 1, 0, 1, 0, 0, 0, 1, 0, 0,\n",
              "       0, 0, 0, 0, 0, 0, 0, 0, 0, 0, 1, 1, 1, 0, 0, 0, 1, 0, 0, 0, 0, 0,\n",
              "       0, 1, 0, 0, 0, 1, 0, 0, 0, 0, 1, 0, 0, 0, 0, 1, 0, 0, 0, 0, 0, 0,\n",
              "       0, 0, 0, 0, 0, 0, 0, 0, 0, 0, 0, 0, 0, 0, 0, 1, 0, 1, 0, 0, 0, 0])"
            ]
          },
          "metadata": {},
          "execution_count": 18
        }
      ]
    },
    {
      "cell_type": "markdown",
      "source": [
        "### Hyperparameter tuning"
      ],
      "metadata": {
        "id": "EandOHeeVFMT"
      }
    },
    {
      "cell_type": "code",
      "source": [
        "# TODO: Lakukan hyperparameter tuning pada model KNN\n",
        "from sklearn.model_selection import cross_val_score\n",
        "\n",
        "k_values = [3, 10]\n",
        "metric_options = ['euclidean', 'manhattan']\n",
        "\n",
        "best_score = 0\n",
        "best_params = {'k': None, 'metric': None}\n",
        "\n",
        "for k in k_values:\n",
        "    for metric in metric_options:\n",
        "        knn = KNN(k=k, metric=metric, task='classification')\n",
        "        knn.fit(X_train, y_train)\n",
        "\n",
        "        scores = cross_val_score(knn, X_train, y_train, cv=5)\n",
        "        mean_score = scores.mean()\n",
        "\n",
        "        if mean_score > best_score:\n",
        "            best_score = mean_score\n",
        "            best_params['k'] = k\n",
        "            best_params['metric'] = metric\n",
        "\n",
        "print(f\"Best Score: {best_score}\")\n",
        "print(f\"Best Parameters: k = {best_params['k']}, metric = {best_params['metric']}\")"
      ],
      "metadata": {
        "id": "bpbI6k-xVJ1-",
        "colab": {
          "base_uri": "https://localhost:8080/"
        },
        "outputId": "098dbcd6-b134-471b-c8be-b5655c3950a9"
      },
      "execution_count": null,
      "outputs": [
        {
          "output_type": "stream",
          "name": "stdout",
          "text": [
            "Best Score: 0.006884884938642893\n",
            "Best Parameters: k = 3, metric = manhattan\n"
          ]
        }
      ]
    },
    {
      "cell_type": "markdown",
      "metadata": {
        "id": "HTV3M26ewBFZ"
      },
      "source": [
        "# Regression"
      ]
    },
    {
      "cell_type": "code",
      "source": [
        "# TODO: Gunakan class KNN yang Anda buat untuk menentukan Whole weight dari kerang Abalone\n",
        "import pandas as pd\n",
        "\n",
        "df_regression = pd.read_csv('dataset.csv')\n",
        "df_regression.head()"
      ],
      "metadata": {
        "id": "vgd5Cc6djgrP",
        "colab": {
          "base_uri": "https://localhost:8080/",
          "height": 206
        },
        "outputId": "4c9ebea1-1241-4d76-9aed-339a25bab66e"
      },
      "execution_count": 3,
      "outputs": [
        {
          "output_type": "execute_result",
          "data": {
            "text/plain": [
              "   Length  Diameter  Height  Whole weight  Shucked weight  Viscera weight  \\\n",
              "0   0.455     0.365   0.095        0.5140          0.2245          0.1010   \n",
              "1   0.350     0.265   0.090        0.2255          0.0995          0.0485   \n",
              "2   0.530     0.420   0.135        0.6770          0.2565          0.1415   \n",
              "3   0.440     0.365   0.125        0.5160          0.2155          0.1140   \n",
              "4   0.330     0.255   0.080        0.2050          0.0895          0.0395   \n",
              "\n",
              "   Shell weight  Class  \n",
              "0         0.150      1  \n",
              "1         0.070      0  \n",
              "2         0.210      0  \n",
              "3         0.155      0  \n",
              "4         0.055      0  "
            ],
            "text/html": [
              "\n",
              "  <div id=\"df-96afdf76-e07e-4709-b8d5-f07d8f1e89a2\" class=\"colab-df-container\">\n",
              "    <div>\n",
              "<style scoped>\n",
              "    .dataframe tbody tr th:only-of-type {\n",
              "        vertical-align: middle;\n",
              "    }\n",
              "\n",
              "    .dataframe tbody tr th {\n",
              "        vertical-align: top;\n",
              "    }\n",
              "\n",
              "    .dataframe thead th {\n",
              "        text-align: right;\n",
              "    }\n",
              "</style>\n",
              "<table border=\"1\" class=\"dataframe\">\n",
              "  <thead>\n",
              "    <tr style=\"text-align: right;\">\n",
              "      <th></th>\n",
              "      <th>Length</th>\n",
              "      <th>Diameter</th>\n",
              "      <th>Height</th>\n",
              "      <th>Whole weight</th>\n",
              "      <th>Shucked weight</th>\n",
              "      <th>Viscera weight</th>\n",
              "      <th>Shell weight</th>\n",
              "      <th>Class</th>\n",
              "    </tr>\n",
              "  </thead>\n",
              "  <tbody>\n",
              "    <tr>\n",
              "      <th>0</th>\n",
              "      <td>0.455</td>\n",
              "      <td>0.365</td>\n",
              "      <td>0.095</td>\n",
              "      <td>0.5140</td>\n",
              "      <td>0.2245</td>\n",
              "      <td>0.1010</td>\n",
              "      <td>0.150</td>\n",
              "      <td>1</td>\n",
              "    </tr>\n",
              "    <tr>\n",
              "      <th>1</th>\n",
              "      <td>0.350</td>\n",
              "      <td>0.265</td>\n",
              "      <td>0.090</td>\n",
              "      <td>0.2255</td>\n",
              "      <td>0.0995</td>\n",
              "      <td>0.0485</td>\n",
              "      <td>0.070</td>\n",
              "      <td>0</td>\n",
              "    </tr>\n",
              "    <tr>\n",
              "      <th>2</th>\n",
              "      <td>0.530</td>\n",
              "      <td>0.420</td>\n",
              "      <td>0.135</td>\n",
              "      <td>0.6770</td>\n",
              "      <td>0.2565</td>\n",
              "      <td>0.1415</td>\n",
              "      <td>0.210</td>\n",
              "      <td>0</td>\n",
              "    </tr>\n",
              "    <tr>\n",
              "      <th>3</th>\n",
              "      <td>0.440</td>\n",
              "      <td>0.365</td>\n",
              "      <td>0.125</td>\n",
              "      <td>0.5160</td>\n",
              "      <td>0.2155</td>\n",
              "      <td>0.1140</td>\n",
              "      <td>0.155</td>\n",
              "      <td>0</td>\n",
              "    </tr>\n",
              "    <tr>\n",
              "      <th>4</th>\n",
              "      <td>0.330</td>\n",
              "      <td>0.255</td>\n",
              "      <td>0.080</td>\n",
              "      <td>0.2050</td>\n",
              "      <td>0.0895</td>\n",
              "      <td>0.0395</td>\n",
              "      <td>0.055</td>\n",
              "      <td>0</td>\n",
              "    </tr>\n",
              "  </tbody>\n",
              "</table>\n",
              "</div>\n",
              "    <div class=\"colab-df-buttons\">\n",
              "\n",
              "  <div class=\"colab-df-container\">\n",
              "    <button class=\"colab-df-convert\" onclick=\"convertToInteractive('df-96afdf76-e07e-4709-b8d5-f07d8f1e89a2')\"\n",
              "            title=\"Convert this dataframe to an interactive table.\"\n",
              "            style=\"display:none;\">\n",
              "\n",
              "  <svg xmlns=\"http://www.w3.org/2000/svg\" height=\"24px\" viewBox=\"0 -960 960 960\">\n",
              "    <path d=\"M120-120v-720h720v720H120Zm60-500h600v-160H180v160Zm220 220h160v-160H400v160Zm0 220h160v-160H400v160ZM180-400h160v-160H180v160Zm440 0h160v-160H620v160ZM180-180h160v-160H180v160Zm440 0h160v-160H620v160Z\"/>\n",
              "  </svg>\n",
              "    </button>\n",
              "\n",
              "  <style>\n",
              "    .colab-df-container {\n",
              "      display:flex;\n",
              "      gap: 12px;\n",
              "    }\n",
              "\n",
              "    .colab-df-convert {\n",
              "      background-color: #E8F0FE;\n",
              "      border: none;\n",
              "      border-radius: 50%;\n",
              "      cursor: pointer;\n",
              "      display: none;\n",
              "      fill: #1967D2;\n",
              "      height: 32px;\n",
              "      padding: 0 0 0 0;\n",
              "      width: 32px;\n",
              "    }\n",
              "\n",
              "    .colab-df-convert:hover {\n",
              "      background-color: #E2EBFA;\n",
              "      box-shadow: 0px 1px 2px rgba(60, 64, 67, 0.3), 0px 1px 3px 1px rgba(60, 64, 67, 0.15);\n",
              "      fill: #174EA6;\n",
              "    }\n",
              "\n",
              "    .colab-df-buttons div {\n",
              "      margin-bottom: 4px;\n",
              "    }\n",
              "\n",
              "    [theme=dark] .colab-df-convert {\n",
              "      background-color: #3B4455;\n",
              "      fill: #D2E3FC;\n",
              "    }\n",
              "\n",
              "    [theme=dark] .colab-df-convert:hover {\n",
              "      background-color: #434B5C;\n",
              "      box-shadow: 0px 1px 3px 1px rgba(0, 0, 0, 0.15);\n",
              "      filter: drop-shadow(0px 1px 2px rgba(0, 0, 0, 0.3));\n",
              "      fill: #FFFFFF;\n",
              "    }\n",
              "  </style>\n",
              "\n",
              "    <script>\n",
              "      const buttonEl =\n",
              "        document.querySelector('#df-96afdf76-e07e-4709-b8d5-f07d8f1e89a2 button.colab-df-convert');\n",
              "      buttonEl.style.display =\n",
              "        google.colab.kernel.accessAllowed ? 'block' : 'none';\n",
              "\n",
              "      async function convertToInteractive(key) {\n",
              "        const element = document.querySelector('#df-96afdf76-e07e-4709-b8d5-f07d8f1e89a2');\n",
              "        const dataTable =\n",
              "          await google.colab.kernel.invokeFunction('convertToInteractive',\n",
              "                                                    [key], {});\n",
              "        if (!dataTable) return;\n",
              "\n",
              "        const docLinkHtml = 'Like what you see? Visit the ' +\n",
              "          '<a target=\"_blank\" href=https://colab.research.google.com/notebooks/data_table.ipynb>data table notebook</a>'\n",
              "          + ' to learn more about interactive tables.';\n",
              "        element.innerHTML = '';\n",
              "        dataTable['output_type'] = 'display_data';\n",
              "        await google.colab.output.renderOutput(dataTable, element);\n",
              "        const docLink = document.createElement('div');\n",
              "        docLink.innerHTML = docLinkHtml;\n",
              "        element.appendChild(docLink);\n",
              "      }\n",
              "    </script>\n",
              "  </div>\n",
              "\n",
              "\n",
              "<div id=\"df-3f34fd48-0493-4e53-a4e5-89964af918a3\">\n",
              "  <button class=\"colab-df-quickchart\" onclick=\"quickchart('df-3f34fd48-0493-4e53-a4e5-89964af918a3')\"\n",
              "            title=\"Suggest charts\"\n",
              "            style=\"display:none;\">\n",
              "\n",
              "<svg xmlns=\"http://www.w3.org/2000/svg\" height=\"24px\"viewBox=\"0 0 24 24\"\n",
              "     width=\"24px\">\n",
              "    <g>\n",
              "        <path d=\"M19 3H5c-1.1 0-2 .9-2 2v14c0 1.1.9 2 2 2h14c1.1 0 2-.9 2-2V5c0-1.1-.9-2-2-2zM9 17H7v-7h2v7zm4 0h-2V7h2v10zm4 0h-2v-4h2v4z\"/>\n",
              "    </g>\n",
              "</svg>\n",
              "  </button>\n",
              "\n",
              "<style>\n",
              "  .colab-df-quickchart {\n",
              "      --bg-color: #E8F0FE;\n",
              "      --fill-color: #1967D2;\n",
              "      --hover-bg-color: #E2EBFA;\n",
              "      --hover-fill-color: #174EA6;\n",
              "      --disabled-fill-color: #AAA;\n",
              "      --disabled-bg-color: #DDD;\n",
              "  }\n",
              "\n",
              "  [theme=dark] .colab-df-quickchart {\n",
              "      --bg-color: #3B4455;\n",
              "      --fill-color: #D2E3FC;\n",
              "      --hover-bg-color: #434B5C;\n",
              "      --hover-fill-color: #FFFFFF;\n",
              "      --disabled-bg-color: #3B4455;\n",
              "      --disabled-fill-color: #666;\n",
              "  }\n",
              "\n",
              "  .colab-df-quickchart {\n",
              "    background-color: var(--bg-color);\n",
              "    border: none;\n",
              "    border-radius: 50%;\n",
              "    cursor: pointer;\n",
              "    display: none;\n",
              "    fill: var(--fill-color);\n",
              "    height: 32px;\n",
              "    padding: 0;\n",
              "    width: 32px;\n",
              "  }\n",
              "\n",
              "  .colab-df-quickchart:hover {\n",
              "    background-color: var(--hover-bg-color);\n",
              "    box-shadow: 0 1px 2px rgba(60, 64, 67, 0.3), 0 1px 3px 1px rgba(60, 64, 67, 0.15);\n",
              "    fill: var(--button-hover-fill-color);\n",
              "  }\n",
              "\n",
              "  .colab-df-quickchart-complete:disabled,\n",
              "  .colab-df-quickchart-complete:disabled:hover {\n",
              "    background-color: var(--disabled-bg-color);\n",
              "    fill: var(--disabled-fill-color);\n",
              "    box-shadow: none;\n",
              "  }\n",
              "\n",
              "  .colab-df-spinner {\n",
              "    border: 2px solid var(--fill-color);\n",
              "    border-color: transparent;\n",
              "    border-bottom-color: var(--fill-color);\n",
              "    animation:\n",
              "      spin 1s steps(1) infinite;\n",
              "  }\n",
              "\n",
              "  @keyframes spin {\n",
              "    0% {\n",
              "      border-color: transparent;\n",
              "      border-bottom-color: var(--fill-color);\n",
              "      border-left-color: var(--fill-color);\n",
              "    }\n",
              "    20% {\n",
              "      border-color: transparent;\n",
              "      border-left-color: var(--fill-color);\n",
              "      border-top-color: var(--fill-color);\n",
              "    }\n",
              "    30% {\n",
              "      border-color: transparent;\n",
              "      border-left-color: var(--fill-color);\n",
              "      border-top-color: var(--fill-color);\n",
              "      border-right-color: var(--fill-color);\n",
              "    }\n",
              "    40% {\n",
              "      border-color: transparent;\n",
              "      border-right-color: var(--fill-color);\n",
              "      border-top-color: var(--fill-color);\n",
              "    }\n",
              "    60% {\n",
              "      border-color: transparent;\n",
              "      border-right-color: var(--fill-color);\n",
              "    }\n",
              "    80% {\n",
              "      border-color: transparent;\n",
              "      border-right-color: var(--fill-color);\n",
              "      border-bottom-color: var(--fill-color);\n",
              "    }\n",
              "    90% {\n",
              "      border-color: transparent;\n",
              "      border-bottom-color: var(--fill-color);\n",
              "    }\n",
              "  }\n",
              "</style>\n",
              "\n",
              "  <script>\n",
              "    async function quickchart(key) {\n",
              "      const quickchartButtonEl =\n",
              "        document.querySelector('#' + key + ' button');\n",
              "      quickchartButtonEl.disabled = true;  // To prevent multiple clicks.\n",
              "      quickchartButtonEl.classList.add('colab-df-spinner');\n",
              "      try {\n",
              "        const charts = await google.colab.kernel.invokeFunction(\n",
              "            'suggestCharts', [key], {});\n",
              "      } catch (error) {\n",
              "        console.error('Error during call to suggestCharts:', error);\n",
              "      }\n",
              "      quickchartButtonEl.classList.remove('colab-df-spinner');\n",
              "      quickchartButtonEl.classList.add('colab-df-quickchart-complete');\n",
              "    }\n",
              "    (() => {\n",
              "      let quickchartButtonEl =\n",
              "        document.querySelector('#df-3f34fd48-0493-4e53-a4e5-89964af918a3 button');\n",
              "      quickchartButtonEl.style.display =\n",
              "        google.colab.kernel.accessAllowed ? 'block' : 'none';\n",
              "    })();\n",
              "  </script>\n",
              "</div>\n",
              "    </div>\n",
              "  </div>\n"
            ]
          },
          "metadata": {},
          "execution_count": 3
        }
      ]
    },
    {
      "cell_type": "markdown",
      "source": [
        "### Preprocessing"
      ],
      "metadata": {
        "id": "m9QJsbQhVORW"
      }
    },
    {
      "cell_type": "code",
      "source": [
        "# TODO: Lakukan preprocessing\n",
        "print(df_regression.isnull().sum())"
      ],
      "metadata": {
        "id": "SnAWXdiIVQ_3",
        "colab": {
          "base_uri": "https://localhost:8080/"
        },
        "outputId": "b0f809c9-77e0-4245-cd5a-c8788ddad2af"
      },
      "execution_count": 4,
      "outputs": [
        {
          "output_type": "stream",
          "name": "stdout",
          "text": [
            "Length            0\n",
            "Diameter          0\n",
            "Height            0\n",
            "Whole weight      0\n",
            "Shucked weight    0\n",
            "Viscera weight    0\n",
            "Shell weight      0\n",
            "Class             0\n",
            "dtype: int64\n"
          ]
        }
      ]
    },
    {
      "cell_type": "markdown",
      "source": [
        "### Split data"
      ],
      "metadata": {
        "id": "V9RapF2fVX4C"
      }
    },
    {
      "cell_type": "code",
      "source": [
        "# TODO: Lakukan split data menjadi train dan test\n",
        "from sklearn.model_selection import train_test_split\n",
        "\n",
        "X = df_regression[['Length', 'Height', 'Shucked weight']]\n",
        "y = df_regression['Whole weight']\n",
        "\n",
        "X_train, X_test, y_train, y_test = train_test_split(X, y, test_size=0.2, random_state=42)\n",
        "X_train.shape, y_train.shape, X_test.shape, y_test.shape"
      ],
      "metadata": {
        "id": "HJDDcAt2VZ-g",
        "colab": {
          "base_uri": "https://localhost:8080/"
        },
        "outputId": "fe301d28-0354-456d-8156-89d05cfd1280"
      },
      "execution_count": 5,
      "outputs": [
        {
          "output_type": "execute_result",
          "data": {
            "text/plain": [
              "((3341, 3), (3341,), (836, 3), (836,))"
            ]
          },
          "metadata": {},
          "execution_count": 5
        }
      ]
    },
    {
      "cell_type": "markdown",
      "source": [
        "### Train dan test model"
      ],
      "metadata": {
        "id": "mCxDSZL7VjwG"
      }
    },
    {
      "cell_type": "code",
      "source": [
        "# TODO: Lakukan training dan testing pada model KNN\n",
        "knn_regression = KNN(task='regression')\n",
        "knn_regression.fit(X_train, y_train)"
      ],
      "metadata": {
        "id": "T7c80uCcVoF2"
      },
      "execution_count": 6,
      "outputs": []
    },
    {
      "cell_type": "code",
      "source": [
        "y_pred = knn_regression.predict(X_test)\n",
        "y_pred"
      ],
      "metadata": {
        "colab": {
          "base_uri": "https://localhost:8080/"
        },
        "id": "GmqL2erptmI4",
        "outputId": "4a3c804b-e779-482f-fcf3-f797fc7ff610"
      },
      "execution_count": null,
      "outputs": [
        {
          "output_type": "execute_result",
          "data": {
            "text/plain": [
              "array([1.09133333, 0.98283333, 0.87983333, 1.201     , 0.58633333,\n",
              "       0.50966667, 0.657     , 0.62533333, 0.2115    , 1.0945    ,\n",
              "       0.85016667, 0.19633333, 0.5225    , 0.23833333, 0.6065    ,\n",
              "       0.88166667, 0.87883333, 0.70233333, 1.6855    , 0.644     ,\n",
              "       1.84183333, 1.85316667, 1.259     , 1.17416667, 0.98533333,\n",
              "       0.47633333, 0.69583333, 0.6975    , 0.99616667, 0.7805    ,\n",
              "       1.09333333, 1.1755    , 0.20133333, 0.60533333, 0.5055    ,\n",
              "       1.06183333, 0.14083333, 0.01883333, 0.5105    , 0.1775    ,\n",
              "       2.02883333, 1.68166667, 1.03983333, 0.6765    , 0.8645    ,\n",
              "       1.87733333, 0.99733333, 0.83733333, 0.6225    , 0.02933333,\n",
              "       0.18566667, 1.32133333, 0.49083333, 0.026     , 0.327     ,\n",
              "       0.82316667, 1.16783333, 1.263     , 0.8315    , 0.18666667,\n",
              "       1.26983333, 1.37766667, 0.96683333, 0.30066667, 0.47966667,\n",
              "       1.27433333, 0.05483333, 0.18766667, 0.57333333, 0.70966667,\n",
              "       1.42833333, 0.686     , 0.30433333, 0.48483333, 0.29433333,\n",
              "       1.51633333, 1.18416667, 1.342     , 1.06983333, 0.63233333,\n",
              "       0.52116667, 1.024     , 1.262     , 0.49983333, 0.23833333,\n",
              "       0.63816667, 0.84633333, 0.558     , 1.66516667, 0.79216667,\n",
              "       0.47      , 0.68016667, 1.18483333, 2.08966667, 1.3265    ,\n",
              "       0.81766667, 0.3425    , 0.7475    , 0.739     , 0.195     ,\n",
              "       0.956     , 0.9175    , 1.68983333, 1.27883333, 0.72666667,\n",
              "       0.33116667, 1.26866667, 0.56683333, 1.41966667, 1.64116667,\n",
              "       1.11716667, 0.795     , 1.05966667, 0.67883333, 0.37983333,\n",
              "       0.06766667, 0.549     , 0.724     , 1.19533333, 1.05383333,\n",
              "       1.16      , 1.30266667, 0.858     , 0.77933333, 0.4565    ,\n",
              "       0.688     , 1.17283333, 1.4365    , 0.84016667, 1.28883333,\n",
              "       0.84733333, 0.65166667, 1.24783333, 0.05283333, 0.123     ,\n",
              "       0.709     , 1.171     , 1.39533333, 0.092     , 1.43133333,\n",
              "       0.54866667, 0.63083333, 0.76433333, 0.57783333, 1.46583333,\n",
              "       1.66833333, 0.80483333, 0.51366667, 0.63483333, 0.87283333,\n",
              "       0.41566667, 1.0475    , 0.93716667, 0.83683333, 0.8315    ,\n",
              "       0.9365    , 0.85266667, 0.10433333, 0.5595    , 0.17516667,\n",
              "       0.89133333, 0.15333333, 1.10183333, 1.03166667, 0.219     ,\n",
              "       1.107     , 1.55816667, 1.1295    , 1.13416667, 0.786     ,\n",
              "       0.87516667, 1.86483333, 0.83233333, 0.40616667, 0.40566667,\n",
              "       0.7135    , 0.75533333, 0.55366667, 1.07083333, 0.97183333,\n",
              "       0.58116667, 0.40733333, 0.28633333, 0.78283333, 0.44433333,\n",
              "       0.44083333, 0.61483333, 1.32833333, 0.891     , 0.081     ,\n",
              "       0.70066667, 0.73083333, 1.54816667, 1.35833333, 1.03233333,\n",
              "       0.8565    , 1.11883333, 1.31933333, 1.20983333, 1.18916667,\n",
              "       0.60033333, 1.607     , 0.75416667, 0.79133333, 0.21283333,\n",
              "       0.66016667, 1.28016667, 1.26866667, 0.554     , 1.03616667,\n",
              "       0.0955    , 0.95833333, 1.3055    , 0.33633333, 1.34216667,\n",
              "       0.60333333, 1.67633333, 0.42683333, 0.8285    , 1.25333333,\n",
              "       1.0845    , 0.25733333, 1.44      , 1.84233333, 0.38283333,\n",
              "       0.30783333, 0.44      , 1.61716667, 1.08266667, 0.62016667,\n",
              "       0.054     , 1.8585    , 1.33666667, 0.90883333, 0.1805    ,\n",
              "       0.6855    , 0.44      , 0.17983333, 0.092     , 1.01483333,\n",
              "       1.08383333, 1.60333333, 0.9345    , 0.29233333, 0.72916667,\n",
              "       0.50333333, 0.57983333, 0.31566667, 0.49966667, 0.48233333,\n",
              "       0.41983333, 1.41366667, 1.01466667, 0.35133333, 1.0285    ,\n",
              "       1.54633333, 1.2625    , 0.0585    , 1.77483333, 0.91316667,\n",
              "       0.82983333, 0.51833333, 0.35233333, 0.77916667, 0.572     ,\n",
              "       0.1115    , 0.09533333, 0.46433333, 1.08616667, 0.23883333,\n",
              "       1.0695    , 0.974     , 0.35483333, 1.1065    , 0.62      ,\n",
              "       1.3155    , 1.19083333, 1.01633333, 1.3845    , 0.0835    ,\n",
              "       0.97766667, 0.37616667, 0.8745    , 0.89666667, 0.07816667,\n",
              "       0.82883333, 1.1645    , 0.031     , 0.8215    , 1.14333333,\n",
              "       1.59266667, 0.042     , 0.95783333, 0.308     , 0.73266667,\n",
              "       1.41933333, 0.054     , 1.62216667, 0.26616667, 1.3405    ,\n",
              "       1.13083333, 1.13033333, 0.33116667, 1.76033333, 0.76383333,\n",
              "       0.2655    , 0.90883333, 0.65116667, 0.1195    , 0.09016667,\n",
              "       0.84483333, 0.4515    , 0.23566667, 0.97166667, 0.90366667,\n",
              "       0.9845    , 0.047     , 1.1865    , 0.91116667, 0.61      ,\n",
              "       0.68266667, 0.30783333, 0.3195    , 0.511     , 0.8105    ,\n",
              "       0.18333333, 1.12783333, 1.742     , 0.3805    , 1.01916667,\n",
              "       0.5745    , 0.47333333, 0.21366667, 0.8465    , 0.57766667,\n",
              "       0.5015    , 1.1375    , 1.94483333, 0.80016667, 0.80866667,\n",
              "       1.3345    , 0.99233333, 1.66716667, 0.44483333, 0.3845    ,\n",
              "       1.24116667, 0.8935    , 0.49283333, 1.079     , 0.68533333,\n",
              "       0.84316667, 0.638     , 0.99483333, 0.8655    , 1.41516667,\n",
              "       0.0205    , 0.246     , 0.21566667, 0.01883333, 0.92233333,\n",
              "       1.06333333, 0.27266667, 0.75466667, 0.32966667, 0.77516667,\n",
              "       0.49266667, 1.13816667, 0.728     , 0.83733333, 0.105     ,\n",
              "       1.54566667, 1.48816667, 0.47283333, 0.22333333, 1.14966667,\n",
              "       1.382     , 0.32866667, 0.63883333, 0.673     , 0.76233333,\n",
              "       0.98683333, 0.57183333, 0.73083333, 0.50316667, 1.2515    ,\n",
              "       0.054     , 1.24266667, 1.61      , 0.45566667, 0.313     ,\n",
              "       0.72816667, 0.22166667, 0.4975    , 0.60933333, 0.59383333,\n",
              "       0.78666667, 1.0895    , 1.62783333, 1.06333333, 0.81766667,\n",
              "       1.23333333, 0.59083333, 0.93316667, 0.5585    , 0.37      ,\n",
              "       0.5615    , 1.67583333, 0.45216667, 1.479     , 1.20483333,\n",
              "       1.08416667, 0.80916667, 0.2285    , 1.34383333, 1.03216667,\n",
              "       0.10883333, 0.03566667, 0.83483333, 1.165     , 1.04216667,\n",
              "       0.405     , 2.04683333, 0.755     , 0.57833333, 1.205     ,\n",
              "       0.68783333, 0.90433333, 1.5785    , 1.5055    , 0.89133333,\n",
              "       1.567     , 0.90616667, 1.56666667, 1.28716667, 1.36083333,\n",
              "       0.2525    , 0.94666667, 0.12733333, 1.29466667, 1.36666667,\n",
              "       0.13      , 0.904     , 1.32666667, 0.376     , 1.76316667,\n",
              "       0.92833333, 0.61783333, 1.0725    , 1.1725    , 1.3045    ,\n",
              "       0.77883333, 1.076     , 0.14283333, 0.23083333, 0.16666667,\n",
              "       1.04166667, 0.27416667, 0.30133333, 0.52716667, 0.21966667,\n",
              "       0.26366667, 1.04083333, 1.24983333, 1.27616667, 0.5935    ,\n",
              "       0.10216667, 0.513     , 0.96983333, 0.28416667, 0.73783333,\n",
              "       0.80333333, 1.38033333, 0.67016667, 0.3895    , 1.17083333,\n",
              "       0.49183333, 1.25433333, 1.578     , 0.30583333, 1.00016667,\n",
              "       0.72833333, 1.37366667, 0.578     , 0.6725    , 0.4455    ,\n",
              "       0.39083333, 1.093     , 1.26416667, 1.328     , 0.199     ,\n",
              "       1.081     , 0.64333333, 0.22133333, 0.64466667, 0.61966667,\n",
              "       0.7065    , 1.23316667, 1.19383333, 0.1605    , 1.42083333,\n",
              "       0.3305    , 0.94416667, 0.03116667, 0.81583333, 0.51616667,\n",
              "       0.72916667, 0.18666667, 0.91216667, 1.31333333, 1.2       ,\n",
              "       0.50416667, 0.93633333, 0.967     , 0.81766667, 0.17316667,\n",
              "       0.94933333, 0.044     , 1.48966667, 1.16616667, 1.27766667,\n",
              "       0.676     , 0.3845    , 1.34966667, 0.9705    , 0.55716667,\n",
              "       0.39316667, 0.41816667, 1.49583333, 1.00933333, 0.874     ,\n",
              "       0.54966667, 1.19266667, 0.02633333, 1.30233333, 0.61466667,\n",
              "       0.37      , 1.24383333, 1.09383333, 1.3095    , 1.71116667,\n",
              "       0.4045    , 0.07716667, 1.1015    , 0.70866667, 0.07633333,\n",
              "       0.3325    , 0.47766667, 0.6205    , 1.69516667, 0.8105    ,\n",
              "       0.193     , 0.938     , 0.86233333, 0.85266667, 0.27916667,\n",
              "       0.235     , 1.28066667, 0.18716667, 0.3805    , 0.39116667,\n",
              "       0.60583333, 0.37533333, 0.26033333, 1.0065    , 0.3985    ,\n",
              "       1.528     , 0.96483333, 0.75316667, 0.1055    , 0.761     ,\n",
              "       0.6125    , 0.3185    , 0.50716667, 0.53016667, 0.574     ,\n",
              "       1.34483333, 0.16716667, 1.23983333, 0.17416667, 0.19383333,\n",
              "       0.46216667, 0.3725    , 0.30533333, 0.26      , 1.344     ,\n",
              "       0.47233333, 0.5475    , 1.09833333, 0.39816667, 1.14916667,\n",
              "       0.8465    , 0.907     , 1.05666667, 0.227     , 0.30066667,\n",
              "       0.816     , 0.227     , 0.8995    , 0.4005    , 1.94483333,\n",
              "       0.198     , 0.87583333, 0.988     , 1.88316667, 1.28933333,\n",
              "       0.68683333, 1.71466667, 0.125     , 1.56383333, 0.75733333,\n",
              "       0.6145    , 0.23      , 0.03683333, 0.64216667, 0.7525    ,\n",
              "       0.5985    , 0.73683333, 2.0945    , 0.196     , 0.22183333,\n",
              "       1.22516667, 0.45933333, 0.83066667, 0.40316667, 0.794     ,\n",
              "       1.18466667, 0.87433333, 1.35383333, 0.82766667, 0.88066667,\n",
              "       0.70916667, 0.65183333, 1.484     , 0.5015    , 0.60916667,\n",
              "       1.65233333, 0.72383333, 1.76133333, 0.379     , 1.509     ,\n",
              "       0.47766667, 0.18483333, 0.07716667, 0.86616667, 1.11266667,\n",
              "       0.58166667, 1.63916667, 0.83516667, 0.82216667, 1.99066667,\n",
              "       2.07533333, 0.37716667, 0.08033333, 1.01383333, 1.0095    ,\n",
              "       1.80616667, 0.14016667, 0.18483333, 1.12133333, 0.8545    ,\n",
              "       1.10283333, 0.1155    , 0.95233333, 0.91583333, 0.75666667,\n",
              "       0.229     , 0.66766667, 0.69366667, 0.02866667, 0.636     ,\n",
              "       0.40466667, 0.76083333, 0.79633333, 0.44933333, 0.53216667,\n",
              "       1.04816667, 0.70116667, 0.79233333, 2.19666667, 1.22783333,\n",
              "       1.45616667, 1.64316667, 0.108     , 0.64066667, 2.31766667,\n",
              "       1.02166667, 1.7485    , 0.62833333, 0.39316667, 0.306     ,\n",
              "       0.65833333, 1.28066667, 1.102     , 1.46233333, 0.79066667,\n",
              "       0.43316667, 1.23183333, 0.65083333, 0.67433333, 0.536     ,\n",
              "       0.70833333, 0.8665    , 0.917     , 1.2575    , 1.58316667,\n",
              "       1.07833333, 0.2385    , 0.4905    , 0.883     , 0.057     ,\n",
              "       1.42566667, 1.0755    , 0.85016667, 0.55716667, 2.1475    ,\n",
              "       0.9795    , 1.70833333, 1.039     , 1.19683333, 0.85266667,\n",
              "       1.3685    , 0.96666667, 0.598     , 1.28083333, 1.12633333,\n",
              "       1.24016667, 1.22583333, 0.256     , 0.24633333, 0.22466667,\n",
              "       0.61983333, 0.34916667, 0.98533333, 0.9545    , 0.61383333,\n",
              "       0.056     , 1.39183333, 0.847     , 1.14833333, 0.30016667,\n",
              "       1.555     , 2.51783333, 0.18666667, 0.55866667, 0.92233333,\n",
              "       0.83433333, 0.1265    , 1.29566667, 0.83516667, 1.5735    ,\n",
              "       0.144     , 1.40733333, 0.95533333, 1.13933333, 1.55233333,\n",
              "       0.864     , 1.69816667, 0.34516667, 1.2535    , 1.03316667,\n",
              "       0.677     , 1.15516667, 0.75166667, 1.157     , 0.80983333,\n",
              "       1.0515    , 0.5895    , 1.712     , 0.25333333, 0.26816667,\n",
              "       1.00933333, 0.30633333, 0.56866667, 0.43366667, 0.6405    ,\n",
              "       0.86533333, 0.04166667, 0.62066667, 1.5695    , 0.84466667,\n",
              "       0.78733333, 0.76033333, 1.25916667, 0.77433333, 1.0765    ,\n",
              "       1.04083333, 0.9015    , 0.45      , 0.22716667, 1.22033333,\n",
              "       0.01883333, 0.177     , 1.245     , 1.25433333, 1.14266667,\n",
              "       1.42566667, 0.83233333, 1.73566667, 0.92066667, 0.0205    ,\n",
              "       1.5235    , 0.19766667, 0.58883333, 0.71516667, 0.18666667,\n",
              "       0.03766667, 0.76883333, 1.3705    , 1.777     , 1.81916667,\n",
              "       1.75216667, 1.49966667, 0.73083333, 0.1275    , 1.93966667,\n",
              "       0.847     , 1.54116667, 1.13916667, 0.4355    , 0.414     ,\n",
              "       0.99716667, 0.933     , 1.48116667, 0.91266667, 0.2175    ,\n",
              "       0.1865    , 0.04066667, 0.17933333, 0.57583333, 0.45566667,\n",
              "       0.5895    , 0.73816667, 0.97583333, 0.77666667, 0.55283333,\n",
              "       0.23116667])"
            ]
          },
          "metadata": {},
          "execution_count": 20
        }
      ]
    },
    {
      "cell_type": "markdown",
      "source": [
        "### Hyperparameter tuning"
      ],
      "metadata": {
        "id": "CNgNueSqVrHC"
      }
    },
    {
      "cell_type": "code",
      "source": [
        "# TODO: Lakukan hyperparameter tuning pada model KNN\n",
        "from sklearn.model_selection import cross_val_score\n",
        "\n",
        "k_values = [3, 10]\n",
        "metric_options = ['euclidean', 'manhattan']\n",
        "\n",
        "best_score = 0\n",
        "best_params = {'k': None, 'metric': None}\n",
        "\n",
        "for k in k_values:\n",
        "    for metric in metric_options:\n",
        "        knn = KNN(k=k, metric=metric, task='regression')\n",
        "        knn.fit(X_train, y_train)\n",
        "\n",
        "        scores = cross_val_score(knn, X_train, y_train, cv=5)\n",
        "        mean_score = scores.mean()\n",
        "\n",
        "        if mean_score > best_score:\n",
        "            best_score = mean_score\n",
        "            best_params['k'] = k\n",
        "            best_params['metric'] = metric\n",
        "\n",
        "print(f\"Best Score: {best_score}\")\n",
        "print(f\"Best Parameters: k = {best_params['k']}, metric = {best_params['metric']}\")"
      ],
      "metadata": {
        "id": "WUjrJmjPVqXv",
        "colab": {
          "base_uri": "https://localhost:8080/"
        },
        "outputId": "ea270e3d-6634-40de-9238-8ec729046e97"
      },
      "execution_count": 7,
      "outputs": [
        {
          "output_type": "stream",
          "name": "stdout",
          "text": [
            "Best Score: 0.9707255118621537\n",
            "Best Parameters: k = 10, metric = manhattan\n"
          ]
        }
      ]
    },
    {
      "cell_type": "markdown",
      "metadata": {
        "id": "vU46VJ7BwBFa"
      },
      "source": [
        "# Pertanyaan"
      ]
    },
    {
      "cell_type": "markdown",
      "metadata": {
        "id": "cXy1ucFgwBFa"
      },
      "source": [
        "1. Apa saja pertimbangan yang harus diperhatikan dalam menentukan nilai k?\n",
        "> Dalam menentukan nilai k untuk algoritma k-Nearest Neighbors (kNN), pertimbangan utama meliputi menemukan keseimbangan yang tepat dalam bias-variance tradeoff. Nilai k yang kecil cenderung membuat model terlalu peka terhadap data pelatihan, meningkatkan risiko overfitting dengan variance tinggi dan bias rendah. Sebaliknya, nilai k yang besar dapat menyebabkan model terlalu menggeneralisasi, mengakibatkan underfitting dengan bias tinggi dan variance rendah. Ukuran dataset juga mempengaruhi pilihan nilai k; dataset yang lebih besar mungkin memerlukan nilai k yang lebih besar untuk menghaluskan pengaruh noise, sedangkan dataset yang lebih kecil mungkin lebih cocok dengan nilai k yang lebih kecil untuk menangkap detail yang lebih halus."
      ]
    },
    {
      "cell_type": "markdown",
      "metadata": {
        "id": "s8b61l6ywBFb"
      },
      "source": [
        "2. Untuk Classification dan Regression, bagaimana hasil percobaan antara menggunakan euclidean distance dan manhattan distance untuk nilai k yang sama? Apa yang menyebabkan hal tersebut terjadi?\n",
        "> Dalam k-Nearest Neighbors (kNN), pemilihan antara Euclidean distance dan Manhattan distance dapat mempengaruhi kinerja model baik dalam tugas klasifikasi maupun regresi, meskipun nilai k tetap sama. Euclidean distance, yang mengukur jarak terpendek antara dua titik, cenderung lebih sensitif terhadap perubahan yang lebih besar dalam satu dimensi dan sering digunakan dalam ruang dengan dimensi lebih rendah. Sebaliknya, Manhattan distance, yang mengukur jumlah perbedaan absolut antara koordinat dua titik, lebih efektif dalam ruang berdimensi tinggi atau dalam data yang mengandung outlier, karena kurang dipengaruhi oleh perubahan ekstrem dalam satu dimensi. Perbedaan ini terjadi karena Euclidean distance mengkuadratkan selisih antara koordinat, yang memperbesar pengaruh perbedaan besar, sedangkan Manhattan distance menangani setiap dimensi secara independen, membuatnya lebih tangguh terhadap outlier. Oleh karena itu, pemilihan metrik jarak bergantung pada sifat data dan dimensi ruang fitur, dengan hasil percobaan yang berpotensi berbeda tergantung pada karakteristik dataset dan konteks masalah."
      ]
    },
    {
      "cell_type": "markdown",
      "metadata": {
        "id": "5OCdqrLgwBFb"
      },
      "source": [
        "3. Untuk Classification dan Regression, berdasarkan hasil hyperparameter tuning, apa rumus jarak dan nilai k yang paling optimal? Apa performance metrics yang Anda gunakan? Jelaskan dengan menyertakan alasannya\n",
        "> Setelah melakukan hyperparameter tuning dengan mencoba menggunakan nilai k besar dan kecil, serta mencoba metric jarak yang digunakan, diperoleh hasil sebagai berikut.\n",
        "> - Untuk task classification, hyperparameter terbaik adalah dengan k = 3 dan Manhattan Distance sebagai metric jarak.\n",
        "> - Untuk task regression, hyperparameter terbaik adalah dengan k = 10 dan Manhattan Distance sebagai metric jarak."
      ]
    },
    {
      "cell_type": "markdown",
      "metadata": {
        "id": "XAQtOt2BwBFb"
      },
      "source": [
        "4. Untuk Classification, apa variabel yang Anda pilih untuk memprediksi Class dari kerang Abalone? Jelaskan mengapa Anda memilih variabel tersebut\n",
        "> Fitur yang digunakan untuk classification adalah `Length`, `Width`, dan `Shucked weight`. Hal tersebut dikarenakan fitur `Diameter` sangat berkorelasi dengan fitur `Length`. Selain itu, fitur `Whole weight`, `Shucked weight`, `Viscera weight`, dan `Shell weight` sangat berkorelasi satu sama lain. Oleh karena itu, `Shucked weight` dipilih untuk merepresentasikan bobot dari suatu kerang Abalone."
      ]
    },
    {
      "cell_type": "markdown",
      "metadata": {
        "id": "5-bH-J9RwBFc"
      },
      "source": [
        "5. Apa pertimbangan dalam memilih kNN dibandingkan dengan metode classification dan regression lainnya? Jelaskan juga pada saat kondisi apa metode classification dan regression dapat bekerja dengan lebih baik\n",
        "> K-Nearest Neighbors (kNN) dipilih atas metode klasifikasi dan regresi lainnya karena keunggulannya dalam kesederhanaan, efektivitas pada dataset dengan jumlah fitur yang tidak terlalu besar, dan tidak memerlukan asumsi statistik tentang distribusi data, yang membuatnya baik untuk non-linear data. Namun, kNN bisa kurang efisien pada dataset berdimensi tinggi karena 'curse of dimensionality' dan lebih lambat dalam prediksi karena perlu menghitung jarak dari titik data baru ke semua titik data pelatihan. Metode klasifikasi dan regresi lain seperti SVM atau random forests mungkin lebih baik ketika ada interaksi kompleks dan non-linear antar fitur atau ketika model perlu skalabel untuk dataset besar. Regresi linier dan logistik bekerja dengan baik ketika hubungan antara fitur dan target dapat dimodelkan secara linier dan asumsi statistik terpenuhi. Pada akhirnya, pemilihan metode bergantung pada ukuran dataset, kompleksitas hubungan dalam data, kebutuhan akan interpretasi model, dan keterbatasan komputasi."
      ]
    },
    {
      "cell_type": "markdown",
      "metadata": {
        "id": "_i07oQH6wBFc"
      },
      "source": [
        "6. Apa yang Anda ketahui tentang weighted k-NN?\n",
        "> Weighted k-Nearest Neighbors (weighted kNN) merupakan variasi dari algoritma kNN standar, di mana bobot diberikan kepada kontribusi tetangga terdekat berdasarkan jarak mereka dari titik query. Dalam weighted kNN, tetangga yang lebih dekat memiliki pengaruh yang lebih besar dalam prediksi dibandingkan dengan tetangga yang lebih jauh. Ini bertujuan untuk mengatasi kelemahan kNN standar di mana semua tetangga dalam jumlah k terdekat dianggap memberikan kontribusi yang sama, tanpa memandang seberapa jauh mereka dari titik yang sedang diprediksi. Weighted kNN bisa lebih efektif di mana ada variasi kepadatan dalam ruang fitur atau ketika outlier mungkin hadir, karena memungkinkan model untuk memberi lebih sedikit bobot pada outlier atau titik yang jarang terjadi yang mungkin kurang representatif. Bobot dapat ditentukan dengan berbagai cara, tetapi yang paling umum adalah melalui fungsi seperti invers jarak atau fungsi kernel lainnya yang menurun dengan meningkatnya jarak."
      ]
    }
  ],
  "metadata": {
    "kernelspec": {
      "display_name": "Python 3",
      "name": "python3"
    },
    "language_info": {
      "codemirror_mode": {
        "name": "ipython",
        "version": 3
      },
      "file_extension": ".py",
      "mimetype": "text/x-python",
      "name": "python",
      "nbconvert_exporter": "python",
      "pygments_lexer": "ipython3",
      "version": "3.10.0"
    },
    "colab": {
      "provenance": [],
      "gpuType": "T4"
    },
    "accelerator": "GPU"
  },
  "nbformat": 4,
  "nbformat_minor": 0
}